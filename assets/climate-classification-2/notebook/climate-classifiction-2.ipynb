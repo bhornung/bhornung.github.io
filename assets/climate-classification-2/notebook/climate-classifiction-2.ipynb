{
 "cells": [
  {
   "cell_type": "code",
   "execution_count": 1,
   "metadata": {},
   "outputs": [],
   "source": [
    "import numpy as np\n",
    "import pandas as pd\n",
    "\n",
    "import matplotlib.pyplot as plt"
   ]
  },
  {
   "cell_type": "markdown",
   "metadata": {},
   "source": [
    "This post is the second part of the discussion of classifying climates. In the previous [one](https://bhornung.github.io/python/2019/01/29/climate-classification.html) we explored the structure of the data and optimised a k nearest neighbour classifier. The objectives this time are\n",
    "\n",
    "* build a data pipeline\n",
    "* use neural networks to classify the climate data"
   ]
  },
  {
   "cell_type": "markdown",
   "metadata": {},
   "source": [
    "## The Data\n",
    "\n",
    "The data comprises of 24 numerical records and a label. The first twelve dimensions of the numerals are the monthly mean temperature in celsius degrees times ten. The second half lists the monthly mean precipitation in milimetres. \n",
    "\n",
    "### Data flow\n",
    "\n",
    "Much like in a real world, scenario we do not posses the entire dataset in advance. Each step in the data pipeline therefore has to be reuseable. In the previous post the data was preprocessed before the feature engineering step. This time, the preprocessing steps are incorporated in the pipeline."
   ]
  },
  {
   "cell_type": "markdown",
   "metadata": {},
   "source": [
    "## Preprocessing\n",
    "\n",
    "### Transformation\n",
    "\n",
    "The temperature and precipitation data are in different ranges and heavily riddled with outliers. We therefore use Yeo--Johnson transforms separately on the two sets.  \n",
    "\n",
    "#### Power transform on flattened arrays\n",
    "\n",
    "All features in a set should undergo identical transformation to preserve the relative positions of the data e.g. July's temperatures should be transformed exactly in the same way as December's temperatures are. For the transformer classes operate along each dimension, we write a wrapper which takes a 2D array and flattens it to **1D** before the fitting and transformation. It restores the original shape of the transformed array afterwards. The wrapper is implemented in the `create_flat_transformer` function below. It takes a transformer class and decorates its `fit`, `transform` and `fit_transform` methods."
   ]
  },
  {
   "cell_type": "code",
   "execution_count": 2,
   "metadata": {},
   "outputs": [],
   "source": [
    "import numpy as np"
   ]
  },
  {
   "cell_type": "code",
   "execution_count": 3,
   "metadata": {},
   "outputs": [],
   "source": [
    "def create_flat_transformer(transformer):\n",
    "    \"\"\"\n",
    "    Wrapper to perform the transformation on the flattened input array to 1D\n",
    "    The X argument is transformmed:\n",
    "        (n_samples, n_features) --> (n_samples * n_features, 1)\n",
    "        \n",
    "    It preserves the methods and attributes of the underlying estimator.\n",
    "    Parameters:\n",
    "        transformer (object) : should implement the methods\n",
    "            fit(X[, y])\n",
    "            transform(X)\n",
    "            \n",
    "    Returns\n",
    "        inner (object) : class with decorated methods.\n",
    "    \"\"\"\n",
    "    \n",
    "    class inner(transformer):\n",
    "        def __init__(self, **kwargs):\n",
    "            \"\"\"\n",
    "            Instantiates a transformer object.\n",
    "            \"\"\"\n",
    "             \n",
    "            # sanity check \n",
    "            required_attrs = ['fit', 'transform', 'fit_transform']\n",
    "            for attr in required_attrs:\n",
    "                if getattr(super(), attr, None) is None:\n",
    "                    raise AttributeError(\"transformer should have {0} attribute\".format(attr))\n",
    "             \n",
    "            # use underlying estimators machinery\n",
    "            super().__init__( **kwargs)\n",
    "\n",
    "        def fit(self, X, y = None):\n",
    "            \"\"\"\n",
    "            1. flattens a 2D array\n",
    "            2. creates rule for transform on the flattened array.\n",
    "            \"\"\"\n",
    "            \n",
    "            super().fit(X.reshape(-1, 1), y)\n",
    "            \n",
    "            return self\n",
    "   \n",
    "        def transform(self, X):\n",
    "            \"\"\"\n",
    "            1. flattens a 2D array\n",
    "            2. transforms it\n",
    "            3. restores it ot its original shape\n",
    "            \"\"\"\n",
    "            \n",
    "            X_t = super().transform(X.reshape(-1, 1))\n",
    "            return X_t.reshape(-1, X.shape[1])\n",
    "        \n",
    "        def fit_transform(self, X, y = None):\n",
    "            \"\"\"\n",
    "            Fits and transforms 2D array via flattening.\n",
    "            \"\"\"\n",
    "            \n",
    "            x_t = super().fit_transform(X.reshape(-1, 1), y)\n",
    "            return x_t.reshape(-1, X.shape[1])\n",
    "\n",
    "    return inner"
   ]
  },
  {
   "cell_type": "markdown",
   "metadata": {},
   "source": [
    "#### Power transform on split data\n",
    "\n",
    "We should remember ourselves that the temperature and precipitation data have to be scaled separately.\n",
    "\n",
    "For this end, using one transformer instance avoiding splitting the data, we write a class which applies transormers to subsets of features. It is akin to [`FeatureUnion`](https://scikit-learn.org/stable/modules/generated/sklearn.pipeline.FeatureUnion.html). The main only difference is, that a certain transform is applied to a specified section of the dimensions as opposed to the entire data. This is implemented as the `SegmentedFeatureUnion` class below. We are going to subclass the aforementioned `FeatureUnion` class, so that its methods can safely be reused."
   ]
  },
  {
   "cell_type": "code",
   "execution_count": 42,
   "metadata": {},
   "outputs": [],
   "source": [
    "from sklearn.pipeline import FeatureUnion, _fit_one_transformer, _transform_one\n",
    "from sklearn.utils._joblib import delayed, Parallel\n",
    "\n",
    "class SegmentedFeatureUnion(FeatureUnion):\n",
    "    \"\"\"\n",
    "    Applies transformers to selections of features.\n",
    "    Class based on sklearn.pipeline FeatureUnion\n",
    "    \"\"\"\n",
    "    \n",
    "    def __init__(self, transformer_list, n_jobs = None,\n",
    "                 transformer_weights = None, transformer_ranges = None):\n",
    "        \"\"\"\n",
    "        Parameters:\n",
    "            transformer_list ([object]) : list of objects that implements the methods \n",
    "                fit : fit(X[, y])\n",
    "                transform : transform(X, [,y])\n",
    "            transformer_ranges ([np.ndarray]) : list of indices to which the transformers are applied. \n",
    "        \"\"\"\n",
    "        \n",
    "        super().__init__(transformer_list, \n",
    "                         n_jobs = n_jobs, \n",
    "                         transformer_weights = transformer_weights)\n",
    "        \n",
    "        self.transformer_ranges = transformer_ranges\n",
    "\n",
    "    def _iter(self):\n",
    "        \"\"\"\n",
    "        Generate (name, trans, weight, transformer_range) tuples excluding None and\n",
    "        'drop' transformers.\n",
    "        \"\"\"\n",
    "        get_weight = (self.transformer_weights or {}).get\n",
    "        \n",
    "        return ((name, trans, get_weight(name), transformer_range)\n",
    "                    for (name, trans), transformer_range in zip(self.transformer_list, self.transformer_ranges)\n",
    "                        if trans is not None and trans != 'drop')\n",
    "    \n",
    "    def fit(self, X, y = None):\n",
    "        \"\"\"\n",
    "        Fit all transformers using X.\n",
    "        \n",
    "        Parameters:\n",
    "            X (np.ndarray[n_samples, n_features]) : data to be transformed\n",
    "            y ({np.ndarray[n_samples], None}) : target variable, usually not used\n",
    "            \n",
    "        Returns:\n",
    "            self (SegmentedFeatureUnion) : this estimator\n",
    "        \"\"\"\n",
    "        \n",
    "        self.transformer_list = list(self.transformer_list)\n",
    "        self._validate_transformers()\n",
    "        transformers = Parallel(n_jobs=self.n_jobs)(\n",
    "            delayed(_fit_one_transformer)(trans, X[:, transform_range], y)\n",
    "                for _, trans, _, transform_range in self._iter())\n",
    "        \n",
    "        # save fitted transformers --> used in self._iter\n",
    "        self._update_transformer_list(transformers)\n",
    "        \n",
    "        return self\n",
    "\n",
    "    def transform(self, X, y = None):\n",
    "        \"\"\"\n",
    "        Transform X separately by each transformer, concatenate results.\n",
    "        Parameters\n",
    "            X (np.ndarray[n_samples, n_features]) : data to be transformed\n",
    "            y ({np.ndarray[n_samples], None}) : ignored\n",
    "            \n",
    "        Returns\n",
    "            X_t : array-like or sparse matrix, shape (n_samples, sum_n_components)\n",
    "            hstack of results of transformers. sum_n_components is the\n",
    "            sum of n_components (output dimension) over transformers.\n",
    "        \"\"\"\n",
    "        \n",
    "        x_t = Parallel(n_jobs=self.n_jobs)(\n",
    "            delayed(_transform_one)(trans, X[:, transform_range], None, weight)\n",
    "                for name, trans, weight, transform_range in self._iter())\n",
    "        \n",
    "        # stack arrays\n",
    "        X_t = np.hstack(X_t)\n",
    "        \n",
    "        return X_t\n",
    "    \n",
    "    def fit_transform(self, X, y = None):\n",
    "        \"\"\"\n",
    "        Override parents fittransform.\n",
    "        \"\"\"\n",
    "        return self.fit(X, y).transform(X, y)"
   ]
  },
  {
   "cell_type": "markdown",
   "metadata": {},
   "source": [
    "#### Testing\n",
    "\n",
    "We can now transform the data according to the following recipe\n",
    "* split features to temperature and precipitation subspaces\n",
    "* flatten each subspace\n",
    "* power transform each flattened arrays\n",
    "* mould array to original shape\n",
    "\n",
    "The power transform will be performed by the `FlatPowerTransformer` class instances. The underlying class is the `PowerTransformer` utility of sklearn."
   ]
  },
  {
   "cell_type": "code",
   "execution_count": 5,
   "metadata": {},
   "outputs": [],
   "source": [
    "from sklearn.preprocessing import PowerTransformer\n",
    "\n",
    "FlatPowerTransformer = create_flat_transformer(PowerTransformer)"
   ]
  },
  {
   "cell_type": "markdown",
   "metadata": {},
   "source": [
    "Separate transformers are then created for the temperature and precipitations subspaces:"
   ]
  },
  {
   "cell_type": "code",
   "execution_count": 6,
   "metadata": {},
   "outputs": [],
   "source": [
    "transformers = [(\"trf1\", FlatPowerTransformer(method = 'yeo-johnson', standardize = True)),\n",
    "                (\"trf2\", FlatPowerTransformer(method = 'yeo-johnson', standardize = True))]\n",
    "\n",
    "# 0-->11 temperature; 12-->23 precipitation\n",
    "transformer_ranges = [np.arange(12), np.arange(12, 24)]"
   ]
  },
  {
   "cell_type": "markdown",
   "metadata": {},
   "source": [
    "The transformers are then collated in a single `SegmentedFeatureUnion` instance:"
   ]
  },
  {
   "cell_type": "code",
   "execution_count": 7,
   "metadata": {},
   "outputs": [],
   "source": [
    "sfu = SegmentedFeatureUnion(transformers, transformer_ranges = transformer_ranges)"
   ]
  },
  {
   "cell_type": "markdown",
   "metadata": {},
   "source": [
    "A quick test is worth the time on a random array:"
   ]
  },
  {
   "cell_type": "code",
   "execution_count": 8,
   "metadata": {},
   "outputs": [
    {
     "name": "stdout",
     "output_type": "stream",
     "text": [
      "-Are the two methods agree within error?\n",
      "-The computer says: Yes!\n"
     ]
    }
   ],
   "source": [
    "X = np.random.rand(100, 24)\n",
    "\n",
    "# segmented feature union\n",
    "sfu.fit(X)\n",
    "X_t = sfu.transform(X)\n",
    "\n",
    "# setp-by-step\n",
    "trf1 = PowerTransformer(method = 'yeo-johnson', standardize = True)\n",
    "trf2 = PowerTransformer(method = 'yeo-johnson', standardize = True)\n",
    "\n",
    "trf1.fit(X[:,np.arange(12)].reshape(-1, 1))\n",
    "trf2.fit(X[:,np.arange(12,24)].reshape(-1, 1))\n",
    "\n",
    "X_t_ref = np.hstack([trf1.transform(X[:,np.arange(12)].reshape(-1, 1)).reshape(-1,12),\n",
    "                     trf2.transform(X[:,np.arange(12,24)].reshape(-1, 1)).reshape(-1, 12)])\n",
    "\n",
    "# compare two transformed arrays\n",
    "print(\"-Are the two methods agree within error?\")\n",
    "print(\"-The computer says: {0}\".format(('No-oo...', 'Yes!')[np.allclose(X_t, X_t_ref)]))"
   ]
  },
  {
   "cell_type": "markdown",
   "metadata": {},
   "source": [
    "### Scaling\n",
    "\n",
    "It is healthy if the input values are in the range of $[0,1]$. This can be achieved by appending the sklearn's very own `MinmaxScaler` after the Yeo--Johnson transform. Since both the temperature and precipitation data are now scaled roughly to the same range, it is reasonable to apply the `MinMaxScaler` to the all dimensions of the numeric data without splitting them. The transform should digest the flattened array, thus the we will reuse our `create_flat_transformer` class factory to create the appropriate transformer."
   ]
  },
  {
   "cell_type": "code",
   "execution_count": 9,
   "metadata": {},
   "outputs": [],
   "source": [
    "from sklearn.preprocessing import MinMaxScaler\n",
    "\n",
    "# create a minmax scaler operating on flattened arrays\n",
    "FlatMinMaxScaler = create_flat_transformer(MinMaxScaler)"
   ]
  },
  {
   "cell_type": "markdown",
   "metadata": {},
   "source": [
    "### Classification\n",
    "\n",
    "As promised in the introduction a neural network will be in charge of estalishing a relationship between numerical data and the climate class labels. The network of choice is `tensorflow`'s `keras` high level framework. This module contains a wrapper that creates an estimator class compatible with the `sklearn` API. \n",
    "\n",
    "`KerasClassifier` constructor consumes keyword argument. The `build_fn` keyword requires a function that builds and compiles a network. Additional, user defined keywords can also be passed that are either used to specify the network properties or define particulars of the `fit` process, such as number of epochs or batch size.\n",
    "\n",
    "Below a slim manifestation of such a function, `model_builder` is defined. The sole parameter of this function is the keyword argument _layers_:\n",
    "\n",
    "* `layers` : defines the size and activation of the successive layers"
   ]
  },
  {
   "cell_type": "code",
   "execution_count": 10,
   "metadata": {},
   "outputs": [
    {
     "name": "stderr",
     "output_type": "stream",
     "text": [
      "C:\\Users\\hornu\\AppData\\Local\\Continuum\\anaconda3\\lib\\site-packages\\h5py\\__init__.py:72: UserWarning: h5py is running against HDF5 1.10.2 when it was built against 1.10.3, this may cause problems\n",
      "  '{0}.{1}.{2}'.format(*version.hdf5_built_version_tuple)\n"
     ]
    }
   ],
   "source": [
    "import tensorflow as tf\n",
    "from tensorflow import keras\n",
    "from tensorflow.keras.wrappers.scikit_learn import KerasClassifier"
   ]
  },
  {
   "cell_type": "code",
   "execution_count": 11,
   "metadata": {},
   "outputs": [],
   "source": [
    "def model_builder(layers = [[10, 'relu'], [10, 'softmax']]):\n",
    "    \"\"\"\n",
    "    Mock neural network buider.\n",
    "    Parameters:\n",
    "        layers [[int, str]] : list of lists, where\n",
    "            1. member of tuple : layer size\n",
    "            2. member of tuple : activation type. \n",
    "            Default : [(10, 'relu'), (10, 'softmax')]\n",
    "    Returns\n",
    "        model () : a compiled neural network\n",
    "    \"\"\"\n",
    "    \n",
    "    # argument checks -- let us assume types are correct\n",
    "    allowed_activations = ('relu', 'softmax')\n",
    "    \n",
    "    for idx, (nunit, activation) in enumerate(layers):\n",
    "         \n",
    "        if not activation in allowed_activations:\n",
    "            raise ValueError(\"'activation' must be {0} in position ({1}, 1). Got: {2}\" \\\n",
    "                             .format(\" \".join(allowed_activations), idx, activation))\n",
    "\n",
    "        if nunit < 1:\n",
    "            raise ValueError(\"'nunit' must be greater than zero in position({0}, 1). Got: {1}\" \\\n",
    "                             .format(idx, nunit))\n",
    "            \n",
    "            # build model\n",
    "    model = keras.models.Sequential(\n",
    "                [keras.layers.Dense(nunit, activation = activation) \n",
    "                    for nunit, activation in layers])\n",
    "    \n",
    "    # compile model\n",
    "    model.compile(optimizer='adam', \n",
    "                  loss='sparse_categorical_crossentropy',\n",
    "                  metrics = ['accuracy'])\n",
    "    \n",
    "    return model"
   ]
  },
  {
   "cell_type": "markdown",
   "metadata": {},
   "source": [
    "So good, so far. We do not the number of labels in advance wich determines the size of the output layer. In fact, it is unknown until the training happens. The problem is the `layer` keyword argument is passed to the constructor and saved. There is no way updating it when the fit happens in the `KerasClassifier` class. There is a solution, though. The actual model that performs the classification is not constructed until the `fit` method is called. By modifying this method in a subclass of `KerasClassifier` one can set the size of the last layer dynamically.\n",
    "\n",
    "An issue immediately arises. The parameters of the `model_builder` cannot be accessed without reflection inside the `KerasClassifier` class. It is therefore not possible to use `set_params` to update the layers, unless the keyword `layers` is explicitily passed to the constructor thereof. Of course, it is legit to always pass this argument, but it is unwiedly and gives rise to making plenty of errors.\n",
    "\n",
    "Using the `inspect` module is modestly elegant, but the most straighforward solution. In fact, `KerasClassifier` realies on it to determine whether a keyword argument is meant to modify the network structure, or it is a directive to the `compile` or `fit` methods.\n",
    "\n",
    "Below, the `AdaptiveKerasClassifier` class modifies the original `fit` algorithm, so that the size of the last layer is automatically set by the number of classes in the training sample."
   ]
  },
  {
   "cell_type": "code",
   "execution_count": 12,
   "metadata": {},
   "outputs": [],
   "source": [
    "import inspect\n",
    "\n",
    "class AdaptiveKerasClassifier(KerasClassifier):\n",
    "    \n",
    "    def fit(self, x, y, **kwargs):\n",
    "        \"\"\"\n",
    "        Trains the neural network on the a given sample.\n",
    "        This method uses KerasClassifier's fit method, but updates the size of the last layer.\n",
    "        \"\"\"\n",
    "        \n",
    "        n_unit_output_layer = np.unique(y).size\n",
    "        \n",
    "        # update the size of the last layer\n",
    "\n",
    "        # 'layers' has been passed explicitly as a parameter\n",
    "        if 'layers' in self.sk_params: \n",
    "            \n",
    "            # copy and modify\n",
    "            layers_ = [[n_, a_] for n_, a_ in self.sk_params['layers']]\n",
    "            layers_[-1][0] = n_unit_output_layer\n",
    "            layers_ = tuple(layers_)\n",
    "\n",
    "            # reset sk_params\n",
    "            self.sk_params['layers'] = layers_\n",
    "            \n",
    "        # if not in skparams, build_fn uses the default value\n",
    "        else:\n",
    "            # get default with introspection\n",
    "            layers_ = inspect.signature(self.build_fn).parameters['layers'].default\n",
    "\n",
    "            # modify it\n",
    "            layers_[-1][0] = n_unit_output_layer\n",
    "            \n",
    "            # add to sk_params\n",
    "            self.sk_params['layers'] = layers_\n",
    "         \n",
    "        # invoke parent's fit method\n",
    "        super().fit(x, y, **kwargs)"
   ]
  },
  {
   "cell_type": "markdown",
   "metadata": {},
   "source": [
    "##  Assempling the pipeline\n",
    "\n",
    "### Loading data\n",
    "\n",
    "A simple utility is written to load the raw data and return the numeric observations and labels. "
   ]
  },
  {
   "cell_type": "code",
   "execution_count": 13,
   "metadata": {},
   "outputs": [],
   "source": [
    "def data_loader(path_to_db):\n",
    "    \"\"\"\n",
    "    Loads the climate data.\n",
    "    Parameters: \n",
    "        path_to_db (str) : path to the csv dat file\n",
    "    Returns:\n",
    "        X (np.ndarray[n_samples, n_features], dtype = float) : the observations\n",
    "        labels (np.ndarray[n_samples], dtype = object) : the climate class labels\n",
    "    \"\"\"\n",
    "    \n",
    "    df = pd.read_csv(path_to_db)\n",
    "    \n",
    "    X = df.loc[:,'2' : '25'].values\n",
    "    \n",
    "    labels = df['Cls'].values\n",
    "    \n",
    "    # free up space\n",
    "    del df\n",
    "    \n",
    "    return X, labels"
   ]
  },
  {
   "cell_type": "markdown",
   "metadata": {},
   "source": [
    "The data are then loaded. "
   ]
  },
  {
   "cell_type": "code",
   "execution_count": 14,
   "metadata": {},
   "outputs": [],
   "source": [
    "path_to_db = r'C:\\Users\\hornu\\OneDrive\\Documents\\personal\\balazs-personal\\balazs-personal\\repos\\Weather\\data\\climate\\temperature-precipitation-cls.csv'\n",
    "X, labels = data_loader(path_to_db)"
   ]
  },
  {
   "cell_type": "markdown",
   "metadata": {},
   "source": [
    "#### Labels\n",
    "\n",
    "If the classes are unbalanced it can happen that the training and test sets of labels are not identical. As a consequence, one has take extra care to ensure that they are encoded consistently. To save ourselves from this trouble, the literal labels are encoded for the entire data set before model optimisation."
   ]
  },
  {
   "cell_type": "code",
   "execution_count": 15,
   "metadata": {},
   "outputs": [],
   "source": [
    "from sklearn.preprocessing import LabelEncoder\n",
    "\n",
    "encoder = LabelEncoder()\n",
    "y = encoder.fit_transform(labels)"
   ]
  },
  {
   "cell_type": "markdown",
   "metadata": {},
   "source": [
    "### The Pipeline\n",
    "\n",
    "We now have all the components of the pipeine to classify the climate data set. These are\n",
    "\n",
    "1. Segmented feature transformation using our `SegmentedFeatureUnion` class\n",
    "2. Scaling of the entire data set with the `FlatMinMaxScaler`\n",
    "3. Neural network classification algorithm wrapped in the `AdaptiveKerasClassifier` class"
   ]
  },
  {
   "cell_type": "code",
   "execution_count": 116,
   "metadata": {},
   "outputs": [],
   "source": [
    "from sklearn.pipeline import Pipeline\n",
    "\n",
    "# power transform\n",
    "power_transformers = [(\"power_trf1\", FlatPowerTransformer(method = 'yeo-johnson', standardize = True)),\n",
    "                      (\"power_trf2\", FlatPowerTransformer(method = 'yeo-johnson', standardize = True))]\n",
    "\n",
    "power_trf = SegmentedFeatureUnion(power_transformers, \n",
    "                                  transformer_ranges = [np.arange(12), \n",
    "                                                        np.arange(12, 24)])\n",
    "\n",
    "# scaling\n",
    "scale_trf = FlatMinMaxScaler()\n",
    "\n",
    "# classifier\n",
    "classifier = AdaptiveKerasClassifier(model_builder)\n",
    "\n",
    "# full pipeline\n",
    "pipeline1 = Pipeline([('power_trf', power_trf), \n",
    "                     ('scale_trf', scale_trf), \n",
    "                     ('classifier', classifier)])"
   ]
  },
  {
   "cell_type": "markdown",
   "metadata": {},
   "source": [
    "## Hyperparameter optimisation\n",
    "\n",
    "Set of parameters we seek to optimise are\n",
    "* compositon of preprocessing pipeline\n",
    "* network architecture\n",
    "* number of epochs\n",
    "\n",
    "The optimisation is carried out on a grid where the fitted models are evaluated by a fivefold cross validation."
   ]
  },
  {
   "cell_type": "code",
   "execution_count": 104,
   "metadata": {},
   "outputs": [],
   "source": [
    "from sklearn.model_selection import KFold, GridSearchCV\n",
    "\n",
    "# test various network architectures.\n",
    "parameter_grid = [{'classifier__epochs' : [5, 7, 10], \n",
    "                   'classifier__layers' : [\n",
    "                               ((128, 'relu'), (10, 'softmax')), \n",
    "                               ((24, 'relu'), (128, 'relu'), (10, 'softmax'))] \n",
    "                  }]\n",
    "\n",
    "# five fold crossvalidation\n",
    "cv = KFold(n_splits = 5, shuffle = True)\n",
    "\n",
    "# using pipeline with minmax scaling\n",
    "grid1 = GridSearchCV(pipeline1, \n",
    "                    param_grid = parameter_grid, \n",
    "                    cv = cv, \n",
    "                    return_train_score = False)\n",
    "\n",
    "grid1.fit(X, y)"
   ]
  },
  {
   "cell_type": "markdown",
   "metadata": {},
   "source": [
    "We now proceed to investigate the effect of the MinMaxScaler by omitting it from the pipeline. This requires updating our pipeline and cross validation object which can be done in two lines. Fortunately, we save an immense amount of work using pipeline and custom esitmators."
   ]
  },
  {
   "cell_type": "code",
   "execution_count": null,
   "metadata": {},
   "outputs": [],
   "source": [
    "# pipeline without minmax scaling\n",
    "pipeline2 = Pipeline([('power_trf', power_trf),  \n",
    "                     ('classifier', classifier)])\n",
    "\n",
    "grid2 = GridSearchCV(pipeline2, \n",
    "                    param_grid = parameter_grid, \n",
    "                    cv = cv, \n",
    "                    return_train_score = False)\n",
    "\n",
    "grid2.fit(X, y)"
   ]
  },
  {
   "cell_type": "markdown",
   "metadata": {},
   "source": [
    "The pipeline with minmax scaling returns results less good (I listened too much PM questions, thus I avoid using the term 'worse') than the one from which the scaler is omitted. The reason being bulk of the data is squashed in a region close to zero, which results in low activations in the first relu layer. In other words, we lose information.\n",
    "\n",
    "The network with two hidden layers outperforms the one with a single middle layer. This is not at all surprising, for it has more flexibility and thus compensate for the information loss.\n",
    "\n",
    "There is not significant difference between the two networks where the minmax scaler is not used. One hidden layer has enough variable to parametrise a reasonably good classifier, for the input data are not squashed."
   ]
  },
  {
   "cell_type": "code",
   "execution_count": 119,
   "metadata": {},
   "outputs": [],
   "source": [
    "# TO HIDE\n",
    "\n",
    "res1 = pd.DataFrame(grid1.cv_results_)\n",
    "res2 = pd.DataFrame(grid2.cv_results_)\n",
    "\n",
    "# encode layer types\n",
    "le = LabelEncoder()\n",
    "res1['layer_type'] = le.fit_transform(res1['param_classifier__layers'].apply(lambda x: str(x)))\n",
    "res2['layer_type'] = le.fit_transform(res2['param_classifier__layers'].apply(lambda x: str(x)))"
   ]
  },
  {
   "cell_type": "code",
   "execution_count": 138,
   "metadata": {},
   "outputs": [
    {
     "data": {
      "image/png": "[encoded data removed]",
      "text/plain": [
       "<Figure size 576x288 with 2 Axes>"
      ]
     },
     "metadata": {
      "needs_background": "light"
     },
     "output_type": "display_data"
    }
   ],
   "source": [
    "# TO HIDE\n",
    "\n",
    "def plot_one_set(data, ax, color, label, title):\n",
    "    \"\"\"\n",
    "    plots one set of results.\n",
    "    \"\"\"\n",
    "    ax.errorbar(data['param_classifier__epochs'], \n",
    "                data['mean_test_score'], \n",
    "                yerr = data['std_test_score'],\n",
    "                label = label,\n",
    "                fmt = 'o', color = color, \n",
    "                capthick = 2, capsize = 2)\n",
    "\n",
    "    ax.legend(loc = 3)\n",
    "    ax.set_ylim((0.7, 0.9))\n",
    "    ax.grid(True); ax.set_xlabel(\"number of epochs\"); ax.set_ylabel(\"accuracy\")\n",
    "    ax.set_title(title)\n",
    "    \n",
    "# no, I won't use seaborn\n",
    "fig, axes = plt.subplots(1, 2, sharey = True)\n",
    "fig.set_size_inches(8, 4)\n",
    "\n",
    "# with minmax\n",
    "plot_one_set(res1.loc[res1['layer_type'] == 0], axes[0], 'orange', 'one layer', 'MinMax Scaler')\n",
    "plot_one_set(res1.loc[res1['layer_type'] == 1], axes[0], 'red', 'two layers', 'MinMax Scaler')\n",
    "\n",
    "# without minmax\n",
    "plot_one_set(res2.loc[res2['layer_type'] == 0], axes[1], 'orange', 'one layer', 'No Minmax Scaler')\n",
    "plot_one_set(res2.loc[res2['layer_type'] == 1], axes[1], 'red', 'two layers', 'No MinMax Scaler')\n",
    "\n",
    "plt.show()"
   ]
  },
  {
   "cell_type": "markdown",
   "metadata": {},
   "source": [
    "## Summary\n",
    "\n",
    "We have created a data pipeline that transforms and classifies the climate data set. Most of the work consisted of writing wrappers around existing `sklearn` and `tensorflow` utilities.\n",
    "\n",
    "Neaural network classifiers have also been trained and their performance examined. It has been established the range of the input data has a significant impact on the accuracy of the the classifiers.  "
   ]
  }
 ],
 "metadata": {
  "kernelspec": {
   "display_name": "Python 3",
   "language": "python",
   "name": "python3"
  },
  "language_info": {
   "codemirror_mode": {
    "name": "ipython",
    "version": 3
   },
   "file_extension": ".py",
   "mimetype": "text/x-python",
   "name": "python",
   "nbconvert_exporter": "python",
   "pygments_lexer": "ipython3",
   "version": "3.6.6"
  }
 },
 "nbformat": 4,
 "nbformat_minor": 2
}
