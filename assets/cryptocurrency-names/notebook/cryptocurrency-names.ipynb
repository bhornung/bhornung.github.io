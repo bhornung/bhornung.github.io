{
 "cells": [
  {
   "cell_type": "code",
   "execution_count": 70,
   "metadata": {
    "collapsed": true
   },
   "outputs": [],
   "source": [
    "from IPython.display import Latex, Math\n",
    "from IPython.display import Image"
   ]
  },
  {
   "cell_type": "code",
   "execution_count": 71,
   "metadata": {
    "collapsed": false
   },
   "outputs": [],
   "source": [
    "from collections import Counter\n",
    "from itertools import chain, islice, repeat\n",
    "import json\n",
    "import os.path\n",
    "\n",
    "import matplotlib.pyplot as plt\n",
    "import numpy as np\n",
    "import pandas as pd\n",
    "\n",
    "from sklearn.preprocessing import  normalize\n",
    "\n",
    "from scipy.stats import chi2, chi2_contingency, poisson\n",
    "import seaborn as sns"
   ]
  },
  {
   "cell_type": "code",
   "execution_count": 72,
   "metadata": {
    "collapsed": true
   },
   "outputs": [],
   "source": [
    "plt.rc('font', size = 14)"
   ]
  },
  {
   "cell_type": "markdown",
   "metadata": {
    "collapsed": true
   },
   "source": [
    "## Aim\n",
    "\n",
    "This will be a short post in which we will investigate if it is possible to predict cryptocurrency names based on known names."
   ]
  },
  {
   "cell_type": "markdown",
   "metadata": {},
   "source": [
    "## Data\n",
    "\n",
    "The data are collected from the [crypocompare.com website](https://www.cryptocompare.com/)."
   ]
  },
  {
   "cell_type": "markdown",
   "metadata": {
    "collapsed": false
   },
   "source": [
    "### Coin list\n",
    "\n",
    "The list of coins are loaded to the indeed creatively named `coin_df` dataframe."
   ]
  },
  {
   "cell_type": "code",
   "execution_count": 73,
   "metadata": {
    "collapsed": false
   },
   "outputs": [
    {
     "data": {
      "text/html": [
       "<div>\n",
       "<style scoped>\n",
       "    .dataframe tbody tr th:only-of-type {\n",
       "        vertical-align: middle;\n",
       "    }\n",
       "\n",
       "    .dataframe tbody tr th {\n",
       "        vertical-align: top;\n",
       "    }\n",
       "\n",
       "    .dataframe thead th {\n",
       "        text-align: right;\n",
       "    }\n",
       "</style>\n",
       "<table border=\"1\" class=\"dataframe\">\n",
       "  <thead>\n",
       "    <tr style=\"text-align: right;\">\n",
       "      <th></th>\n",
       "      <th>Algorithm</th>\n",
       "      <th>CoinName</th>\n",
       "      <th>FullName</th>\n",
       "      <th>FullyPremined</th>\n",
       "      <th>Id</th>\n",
       "      <th>ImageUrl</th>\n",
       "      <th>IsTrading</th>\n",
       "      <th>Name</th>\n",
       "      <th>PreMinedValue</th>\n",
       "      <th>ProofType</th>\n",
       "      <th>SortOrder</th>\n",
       "      <th>Sponsored</th>\n",
       "      <th>Symbol</th>\n",
       "      <th>TotalCoinSupply</th>\n",
       "      <th>TotalCoinsFreeFloat</th>\n",
       "      <th>Url</th>\n",
       "    </tr>\n",
       "  </thead>\n",
       "  <tbody>\n",
       "    <tr>\n",
       "      <th>42</th>\n",
       "      <td>Scrypt</td>\n",
       "      <td>42 Coin</td>\n",
       "      <td>42 Coin (42)</td>\n",
       "      <td>0</td>\n",
       "      <td>4321</td>\n",
       "      <td>/media/12318415/42.png</td>\n",
       "      <td>1</td>\n",
       "      <td>42</td>\n",
       "      <td>N/A</td>\n",
       "      <td>PoW/PoS</td>\n",
       "      <td>34</td>\n",
       "      <td>0</td>\n",
       "      <td>42</td>\n",
       "      <td>42</td>\n",
       "      <td>N/A</td>\n",
       "      <td>/coins/42/overview</td>\n",
       "    </tr>\n",
       "    <tr>\n",
       "      <th>300</th>\n",
       "      <td>N/A</td>\n",
       "      <td>300 token</td>\n",
       "      <td>300 token (300)</td>\n",
       "      <td>0</td>\n",
       "      <td>749869</td>\n",
       "      <td>/media/27010595/300.png</td>\n",
       "      <td>1</td>\n",
       "      <td>300</td>\n",
       "      <td>N/A</td>\n",
       "      <td>N/A</td>\n",
       "      <td>2212</td>\n",
       "      <td>0</td>\n",
       "      <td>300</td>\n",
       "      <td>300</td>\n",
       "      <td>N/A</td>\n",
       "      <td>/coins/300/overview</td>\n",
       "    </tr>\n",
       "    <tr>\n",
       "      <th>365</th>\n",
       "      <td>X11</td>\n",
       "      <td>365Coin</td>\n",
       "      <td>365Coin (365)</td>\n",
       "      <td>0</td>\n",
       "      <td>33639</td>\n",
       "      <td>/media/352070/365.png</td>\n",
       "      <td>1</td>\n",
       "      <td>365</td>\n",
       "      <td>N/A</td>\n",
       "      <td>PoW/PoS</td>\n",
       "      <td>916</td>\n",
       "      <td>0</td>\n",
       "      <td>365</td>\n",
       "      <td>2300000000</td>\n",
       "      <td>N/A</td>\n",
       "      <td>/coins/365/overview</td>\n",
       "    </tr>\n",
       "    <tr>\n",
       "      <th>404</th>\n",
       "      <td>Scrypt</td>\n",
       "      <td>404Coin</td>\n",
       "      <td>404Coin (404)</td>\n",
       "      <td>0</td>\n",
       "      <td>21227</td>\n",
       "      <td>/media/351001/404.png</td>\n",
       "      <td>1</td>\n",
       "      <td>404</td>\n",
       "      <td>N/A</td>\n",
       "      <td>PoW/PoS</td>\n",
       "      <td>602</td>\n",
       "      <td>0</td>\n",
       "      <td>404</td>\n",
       "      <td>532000000</td>\n",
       "      <td>N/A</td>\n",
       "      <td>/coins/404/overview</td>\n",
       "    </tr>\n",
       "    <tr>\n",
       "      <th>611</th>\n",
       "      <td>SHA256</td>\n",
       "      <td>SixEleven</td>\n",
       "      <td>SixEleven (611)</td>\n",
       "      <td>0</td>\n",
       "      <td>20909</td>\n",
       "      <td>/media/350985/611.png</td>\n",
       "      <td>1</td>\n",
       "      <td>611</td>\n",
       "      <td>N/A</td>\n",
       "      <td>PoW</td>\n",
       "      <td>586</td>\n",
       "      <td>0</td>\n",
       "      <td>611</td>\n",
       "      <td>611000</td>\n",
       "      <td>N/A</td>\n",
       "      <td>/coins/611/overview</td>\n",
       "    </tr>\n",
       "  </tbody>\n",
       "</table>\n",
       "</div>"
      ],
      "text/plain": [
       "    Algorithm   CoinName         FullName  FullyPremined      Id  \\\n",
       "42     Scrypt    42 Coin     42 Coin (42)              0    4321   \n",
       "300       N/A  300 token  300 token (300)              0  749869   \n",
       "365       X11    365Coin    365Coin (365)              0   33639   \n",
       "404    Scrypt    404Coin    404Coin (404)              0   21227   \n",
       "611    SHA256  SixEleven  SixEleven (611)              0   20909   \n",
       "\n",
       "                    ImageUrl  IsTrading Name PreMinedValue ProofType  \\\n",
       "42    /media/12318415/42.png          1   42           N/A   PoW/PoS   \n",
       "300  /media/27010595/300.png          1  300           N/A       N/A   \n",
       "365    /media/352070/365.png          1  365           N/A   PoW/PoS   \n",
       "404    /media/351001/404.png          1  404           N/A   PoW/PoS   \n",
       "611    /media/350985/611.png          1  611           N/A       PoW   \n",
       "\n",
       "     SortOrder  Sponsored Symbol TotalCoinSupply TotalCoinsFreeFloat  \\\n",
       "42          34          0     42              42                 N/A   \n",
       "300       2212          0    300             300                 N/A   \n",
       "365        916          0    365      2300000000                 N/A   \n",
       "404        602          0    404       532000000                 N/A   \n",
       "611        586          0    611          611000                 N/A   \n",
       "\n",
       "                     Url  \n",
       "42    /coins/42/overview  \n",
       "300  /coins/300/overview  \n",
       "365  /coins/365/overview  \n",
       "404  /coins/404/overview  \n",
       "611  /coins/611/overview  "
      ]
     },
     "execution_count": 73,
     "metadata": {},
     "output_type": "execute_result"
    }
   ],
   "source": [
    "coin_df = load_df_from_json(r'C:\\Users\\Balazs\\source\\repos\\CryptoAnalysis\\coin_attrs-2018-07-05.json')\n",
    "coin_df.head()"
   ]
  },
  {
   "cell_type": "markdown",
   "metadata": {},
   "source": [
    "### Preparation\n",
    "\n",
    "All names are cast as uppercase and any trailing whitespaces are removed. It is then checked whether there are missing names."
   ]
  },
  {
   "cell_type": "code",
   "execution_count": 74,
   "metadata": {
    "collapsed": false
   },
   "outputs": [
    {
     "name": "stdout",
     "output_type": "stream",
     "text": [
      "No missing names\n"
     ]
    }
   ],
   "source": [
    "coin_df['clean_name'] = coin_df['CoinName'].apply(lambda x: x.strip().upper())\n",
    "\n",
    "if coin_df['clean_name'].isnull().values.any():\n",
    "    print(\"Warning: Missing name.\")\n",
    "else:\n",
    "    print(\"No missing names\")"
   ]
  },
  {
   "cell_type": "markdown",
   "metadata": {},
   "source": [
    "## Analysis\n",
    "\n",
    "### Number of names and characters\n",
    "\n",
    "Firtsly, the number of names and characters are trivially determined, so that we know what sample sizes we are going to deal with. As we can see the sample size is rather small. The corpus size is in the order of hundred thousands or million words in a usual natural language processing setup."
   ]
  },
  {
   "cell_type": "code",
   "execution_count": 75,
   "metadata": {
    "collapsed": false
   },
   "outputs": [
    {
     "name": "stdout",
     "output_type": "stream",
     "text": [
      "Number of names: 2717\n",
      "Number of characters: 25138\n"
     ]
    }
   ],
   "source": [
    "n_name = coin_df['clean_name'].size\n",
    "n_char = sum(map(lambda x: len(x), coin_df['clean_name']))\n",
    "print(\"Number of names: {0}\".format(n_name))\n",
    "print(\"Number of characters: {0}\".format(n_char))"
   ]
  },
  {
   "cell_type": "markdown",
   "metadata": {},
   "source": [
    "### Character frequency\n",
    "\n",
    "The character frequency yields a rough estimate of the name composition."
   ]
  },
  {
   "cell_type": "code",
   "execution_count": 76,
   "metadata": {
    "collapsed": false
   },
   "outputs": [],
   "source": [
    "raw_char_frequency = Counter(chain(*coin_df['clean_name'].values))\n",
    "n_letter = len(raw_char_frequency)\n",
    "raw_chars, raw_freqs = zip(*raw_char_frequency.most_common())"
   ]
  },
  {
   "cell_type": "code",
   "execution_count": 77,
   "metadata": {
    "collapsed": false
   },
   "outputs": [
    {
     "data": {
      "image/png": "[encoded data removed]",
      "text/plain": [
       "<matplotlib.figure.Figure at 0x1dffab75e10>"
      ]
     },
     "metadata": {},
     "output_type": "display_data"
    }
   ],
   "source": [
    "# TO HIDE\n",
    "fig, ax = plt.subplots(1,1)\n",
    "fig.set_size_inches(8,6)\n",
    "\n",
    "ax.set_xticks(range(n_letter), raw_chars)\n",
    "ax.bar(range(n_letter), raw_freqs, width = 0.5, label = 'crypto name', color = 'green')\n",
    "\n",
    "ax.set_xlabel(r'$\\alpha$')\n",
    "ax.set_ylabel(r'$P(\\alpha)$')\n",
    "ax.set_xticks(np.arange(n_letter))\n",
    "ax.set_xticklabels(raw_chars)\n",
    "ax.yaxis.grid(which = 'both')\n",
    "plt.yscale('log')\n",
    "plt.legend(loc='best', ncol=2, mode=\"expand\", fancybox=True)\n",
    "\n",
    "plt.show()"
   ]
  },
  {
   "cell_type": "markdown",
   "metadata": {},
   "source": [
    "There is three orders of magnitude difference between the most and least frequent characters. (The gap between _L_ and _U_ is the _space_ character.) Those names which contain any of the characters of frequency below a certain limit will be removed. This limit is twice the weighted square root of the top five frequencies."
   ]
  },
  {
   "cell_type": "code",
   "execution_count": 78,
   "metadata": {
    "collapsed": true
   },
   "outputs": [],
   "source": [
    "n_top = 5\n",
    "n_top_freq = np.array(raw_freqs[:n_top], dtype = np.float)\n",
    "cutoff_freq = 2 * np.dot(np.sqrt(n_top_freq), n_top_freq) / np.sum(n_top_freq) \n",
    "\n",
    "discard_chars, _  = zip(*filter(lambda x: x[1] < cutoff_freq, raw_char_frequency.items()))\n",
    "names = list(filter(lambda x: not any(map(lambda y: y in x, discard_chars)), coin_df['clean_name']))     "
   ]
  },
  {
   "cell_type": "markdown",
   "metadata": {},
   "source": [
    "The selected names are then saved in the `name_df` dataframe. The number of names and characters are then quickly checked."
   ]
  },
  {
   "cell_type": "code",
   "execution_count": 79,
   "metadata": {
    "collapsed": true
   },
   "outputs": [],
   "source": [
    "name_df = pd.DataFrame({'name' : names})\n",
    "name_df['name_len'] = name_df['name'].apply(lambda x: len(x))"
   ]
  },
  {
   "cell_type": "code",
   "execution_count": 80,
   "metadata": {
    "collapsed": false
   },
   "outputs": [
    {
     "name": "stdout",
     "output_type": "stream",
     "text": [
      "Number of names kept: 2489\n",
      "Number of characters kept: 22997\n"
     ]
    }
   ],
   "source": [
    "print(\"Number of names kept: {0}\".format(name_df.shape[0]))\n",
    "print(\"Number of characters kept: {0}\".format(name_df['name_len'].sum()))"
   ]
  },
  {
   "cell_type": "markdown",
   "metadata": {},
   "source": [
    "The character frequencies and probabilities are calculated for the retained words and compared to the those if the original set."
   ]
  },
  {
   "cell_type": "code",
   "execution_count": 81,
   "metadata": {
    "collapsed": false
   },
   "outputs": [],
   "source": [
    "char_frequency = Counter(chain(*names))\n",
    "chars, freqs = zip(*char_frequency.most_common())\n",
    "\n",
    "p_freqs = np.asarray(freqs, dtype = np.float) / sum(freqs)\n",
    "r_raw_freqs = np.asarray(raw_freqs, dtype = np.float) / sum(raw_freqs)"
   ]
  },
  {
   "cell_type": "code",
   "execution_count": 82,
   "metadata": {
    "collapsed": false
   },
   "outputs": [
    {
     "data": {
      "image/png": "[encoded data removed]",
      "text/plain": [
       "<matplotlib.figure.Figure at 0x1dff55586d8>"
      ]
     },
     "metadata": {},
     "output_type": "display_data"
    }
   ],
   "source": [
    "# TO HIDE\n",
    "fig, ax = plt.subplots(1,1)\n",
    "fig.set_size_inches(8,6)\n",
    "\n",
    "ax.set_xticks(range(n_letter), raw_chars)\n",
    "ax.bar(np.arange(0.6, n_letter), r_raw_freqs, width = 0.5, label = 'raw', color = 'green')\n",
    "ax.bar(np.arange(0.3, len(chars)), p_freqs, width = 0.5, label = 'filtered', color = 'orange')\n",
    "\n",
    "ax.set_xlabel(r'$\\alpha$')\n",
    "ax.set_ylabel(r'$P(\\alpha)$')\n",
    "ax.set_xticks(np.arange(n_letter))\n",
    "ax.set_xticklabels(raw_chars)\n",
    "ax.yaxis.grid(which = 'both')\n",
    "plt.yscale('log')\n",
    "plt.legend(loc = 'best', ncol = 1 , fancybox=True)\n",
    "\n",
    "plt.show()"
   ]
  },
  {
   "cell_type": "markdown",
   "metadata": {},
   "source": [
    "The distribution of characters that appear both in the raw and filtered sets are nearly identical which is confirmed by the $\\chi^{2}$-test. It can thus be confirmed removing the words containing infrequent characters has not changed considerably our sample."
   ]
  },
  {
   "cell_type": "code",
   "execution_count": 83,
   "metadata": {
    "collapsed": false
   },
   "outputs": [
    {
     "name": "stdout",
     "output_type": "stream",
     "text": [
      "P-value: 0.999999997133692\n"
     ]
    }
   ],
   "source": [
    "f_obs = np.asarray([freqs, raw_freqs[:len(freqs)]])\n",
    "chi2_, p, dof, f_epx = chi2_contingency(f_obs)\n",
    "\n",
    "print(\"P-value: {0}\".format(p))"
   ]
  },
  {
   "cell_type": "markdown",
   "metadata": {},
   "source": [
    "#### Comparison to natural letter frequencies\n",
    "\n",
    "It is interesting to compare the character frequency in the coin names to that of the English language. The reference distribution can be found [here](http://pi.math.cornell.edu/~mec/2003-2004/cryptography/subs/frequencies.html). They are loaded into a dictionary with letters as keys and the normalised frequencies as values."
   ]
  },
  {
   "cell_type": "code",
   "execution_count": 84,
   "metadata": {
    "collapsed": false
   },
   "outputs": [],
   "source": [
    "with open('char_freq.json', 'r') as fproc:\n",
    "    ref_letter_frequency = json.load(fproc)\n",
    "    \n",
    "ref_letter_frequency = {x.upper() : float(y) / 100.0 for x, y in ref_letter_frequency.items()}"
   ]
  },
  {
   "cell_type": "markdown",
   "metadata": {},
   "source": [
    "The letter frequency of the names can easily be calculated, however, one has to make sure that only those letters are taken into account that appear in the reference list."
   ]
  },
  {
   "cell_type": "code",
   "execution_count": 85,
   "metadata": {
    "collapsed": false
   },
   "outputs": [],
   "source": [
    "letter_frequency =  dict(filter(lambda x: x[0] in ref_letter_frequency, char_frequency.items()))  \n",
    "\n",
    "sum_ = sum(letter_frequency.values())\n",
    "letter_frequency = {x : float(y) / sum_ for x, y in letter_frequency.items()}    # normalise\n",
    "\n",
    "missing_letters = set(ref_letter_frequency.keys() - letter_frequency.keys())     # letters not in names\n",
    "letter_frequency.update({x : 0 for x in missing_letters})"
   ]
  },
  {
   "cell_type": "code",
   "execution_count": 86,
   "metadata": {
    "collapsed": false,
    "scrolled": true
   },
   "outputs": [
    {
     "data": {
      "image/png": "[encoded data removed]",
      "text/plain": [
       "<matplotlib.figure.Figure at 0x1dffabd94a8>"
      ]
     },
     "metadata": {},
     "output_type": "display_data"
    }
   ],
   "source": [
    "# == TO HIDE\n",
    "\n",
    "n_letter = len(ref_letter_frequency)\n",
    "\n",
    "kkk = [y for x, y in sorted(letter_frequency.items())]\n",
    "lll = [y for x, y in sorted(ref_letter_frequency.items())]\n",
    "\n",
    "fig, ax = plt.subplots(1,1)\n",
    "#fig.set_size_inches(12,10)\n",
    "ax.set_xticks(range(n_letter), letter_frequency.keys())\n",
    "ax.bar(np.arange(0.3, n_letter) * 2, lll, width = 0.8, label = 'reference/natural', color = 'orange')\n",
    "ax.bar(np.arange(0.7, n_letter) * 2, kkk, width = 0.8, label = 'crypto name', color = 'green')\n",
    "\n",
    "ax.set_xlabel(r'$\\alpha$')\n",
    "ax.set_ylabel(r'$P(\\alpha)$')\n",
    "ax.set_xticks(np.arange(0.5, n_letter) * 2)\n",
    "ax.set_xticklabels(ref_letter_frequency.keys())\n",
    "\n",
    "plt.legend(loc='best', ncol = 1, fancybox = True)\n",
    "plt.show()"
   ]
  },
  {
   "cell_type": "markdown",
   "metadata": {},
   "source": [
    "It is readily seen that the two distributions markedly differ. \n",
    "\n",
    "### Name length\n",
    "\n"
   ]
  },
  {
   "cell_type": "markdown",
   "metadata": {},
   "source": [
    "If we assume there is a fixed average name length and the name lenghts are distributed independently, we can try to model the length distribution with Poisson distribution. The exponent, the only parameter of the distribution is approximated by the mean of the observed word lengths."
   ]
  },
  {
   "cell_type": "code",
   "execution_count": 87,
   "metadata": {
    "collapsed": true
   },
   "outputs": [],
   "source": [
    "name_len_histo = np.bincount(name_df['name_len'].values) * 1.0\n",
    "name_len_histo /= max(1.0, np.sum(name_len_histo)) # dirty, I know -- but we also know that the legths are 0< integers"
   ]
  },
  {
   "cell_type": "code",
   "execution_count": 88,
   "metadata": {
    "collapsed": false,
    "scrolled": true
   },
   "outputs": [
    {
     "data": {
      "image/png": "[encoded data removed]",
      "text/plain": [
       "<matplotlib.figure.Figure at 0x1dffab1b518>"
      ]
     },
     "metadata": {},
     "output_type": "display_data"
    }
   ],
   "source": [
    "# TO HIDE\n",
    "\n",
    "mu = name_df['name_len'].mean()\n",
    "n_max_len = name_df['name_len'].max() + 1\n",
    "x = np.arange(0, n_max_len)\n",
    "\n",
    "fig, ax = plt.subplots(1,1)\n",
    "#fig.set_size_inches(8, 6)\n",
    "ax.plot(x, poisson.pmf(x, mu), color = 'blue', linewidth = 2, label = 'Poisson')\n",
    "ax.bar(x, name_len_histo, color = 'green', label = 'reference')\n",
    "\n",
    "ax.set_xlabel(r'$n_{length}$')\n",
    "ax.set_ylabel(r'$P(n_{length})$')\n",
    "\n",
    "plt.legend(loc='best', ncol = 1, fancybox = True)\n",
    "plt.show()"
   ]
  },
  {
   "cell_type": "markdown",
   "metadata": {},
   "source": [
    "We can then perform a [ $\\chi^{2}$-test](http://www-stat.wharton.upenn.edu/~lbrown/Papers/) on the [Anscombe transdormed](https://en.wikipedia.org/wiki/Anscombe_transform) data from which it can be established that the length distribution is not Poisson."
   ]
  },
  {
   "cell_type": "code",
   "execution_count": 89,
   "metadata": {
    "collapsed": false
   },
   "outputs": [
    {
     "name": "stdout",
     "output_type": "stream",
     "text": [
      "0.0\n"
     ]
    }
   ],
   "source": [
    "name_df['trf_vals'] = name_df['name_len'].apply(lambda x: np.sqrt(x + 0.375))\n",
    "trf_vals = name_df['trf_vals'] - name_df['trf_vals'].sum()\n",
    "\n",
    "chisq = np.dot(trf_vals,trf_vals)  \n",
    "print(chi2.sf(chisq, name_df.shape[0]))"
   ]
  },
  {
   "cell_type": "markdown",
   "metadata": {},
   "source": [
    "## Generating crytocurrency names\n",
    "\n",
    "Our aim is to generate cryptocurrency names. The is a manifold of possible algorithms to achieve this. We are going to use a simple Markov model. We, therefore, have to know what what the probability of various character sequences across all coin names. The two letter sequences are counted below:"
   ]
  },
  {
   "cell_type": "code",
   "execution_count": 90,
   "metadata": {
    "collapsed": false
   },
   "outputs": [],
   "source": [
    "make_doublets = lambda x: zip(x[:-1], x[1:])\n",
    "make_doublet_histo = lambda x: Counter(chain(*map(lambda x: make_doublets(x), x)))"
   ]
  },
  {
   "cell_type": "code",
   "execution_count": 91,
   "metadata": {
    "collapsed": false
   },
   "outputs": [],
   "source": [
    "pair_histo = make_doublet_histo(name_df['name'].values)"
   ]
  },
  {
   "cell_type": "markdown",
   "metadata": {},
   "source": [
    "The overwhelming abundance of the word _coin_ is readily recognised from the list of five most common sequences:"
   ]
  },
  {
   "cell_type": "code",
   "execution_count": 92,
   "metadata": {
    "collapsed": false
   },
   "outputs": [
    {
     "name": "stdout",
     "output_type": "stream",
     "text": [
      "('I', 'N')\t:\t1246\n",
      "('C', 'O')\t:\t1067\n",
      "('O', 'I')\t:\t991\n",
      "('E', 'N')\t:\t309\n",
      "('E', 'R')\t:\t293\n",
      "('I', 'T')\t:\t278\n",
      "('T', 'O')\t:\t250\n",
      "('R', 'E')\t:\t236\n",
      "('A', 'R')\t:\t231\n",
      "(' ', 'C')\t:\t215\n",
      "('O', 'N')\t:\t197\n",
      "('B', 'I')\t:\t190\n",
      "('K', 'E')\t:\t187\n",
      "('N', 'E')\t:\t184\n",
      "('T', 'E')\t:\t167\n"
     ]
    }
   ],
   "source": [
    "for pair, cnt in pair_histo.most_common(15):\n",
    "    print(\"{0}\\t:\\t{1}\".format(pair, cnt))\n",
    " "
   ]
  },
  {
   "cell_type": "markdown",
   "metadata": {},
   "source": [
    "The function [`counter_to_np_histo`](### Functions to create and manipulate `numpy` histograms) creates a 2D histogram of the character pairs. The rows correspond to the first character, whereas he columns hold the second character of every doublet.  The additional keyword `with_recorder` returns the index $\\rightarrow$ key element mapping. "
   ]
  },
  {
   "cell_type": "markdown",
   "metadata": {},
   "source": [
    "The doublet histogram is then calculated:"
   ]
  },
  {
   "cell_type": "code",
   "execution_count": 93,
   "metadata": {
    "collapsed": false
   },
   "outputs": [],
   "source": [
    "histo, decoder = counter_to_np_array(pair_histo, with_decoder = True)\n",
    "xlabels = ylabels = decoder.values()"
   ]
  },
  {
   "cell_type": "code",
   "execution_count": 94,
   "metadata": {
    "collapsed": false
   },
   "outputs": [
    {
     "data": {
      "image/png": "[encoded data removed]",
      "text/plain": [
       "<matplotlib.figure.Figure at 0x1dff8a900f0>"
      ]
     },
     "metadata": {},
     "output_type": "display_data"
    }
   ],
   "source": [
    "# TO HIDE\n",
    "plot_histomat(histo, xlabels = xlabels, ylabels = ylabels)\n",
    "plt.show()"
   ]
  },
  {
   "cell_type": "markdown",
   "metadata": {},
   "source": [
    "It is quickly checked whether any characters (a column and a row of the same index) can be removed. This would be the case if there are name that consist of a single character, and that character does not appear in any other names. \n",
    "\n",
    "Other limiting cases:\n",
    "\n",
    "* if a character is always terminal in all names it appears, its row is empty\n",
    "* if a character is always the first one in all names it apprears, its column will be empty\n",
    "\n",
    "We can confirm that all characters are connected to at least one other character:"
   ]
  },
  {
   "cell_type": "code",
   "execution_count": 95,
   "metadata": {
    "collapsed": false
   },
   "outputs": [
    {
     "name": "stdout",
     "output_type": "stream",
     "text": [
      "-Are there standalone characters? \n",
      "-The computer says No-o.\n",
      "-Are there start only characters? \n",
      "-The computer says No-o.\n",
      "-Are there terminal only characters? \n",
      "-The computer says No-o.\n"
     ]
    }
   ],
   "source": [
    "is_terminal = np.any(histo.sum(axis = 1) == 0.0)\n",
    "is_starting = np.any(histo.sum(axis = 0) == 0.0)\n",
    "is_standalone = is_terminal & is_starting\n",
    "\n",
    "chooser = lambda x: 'yes' if x else 'No-o'\n",
    "\n",
    "print(\"-Are there standalone characters? \\n-The computer says {0}.\".format(chooser(is_standalone)))\n",
    "print(\"-Are there start only characters? \\n-The computer says {0}.\".format(chooser(is_starting)))\n",
    "print(\"-Are there terminal only characters? \\n-The computer says {0}.\".format(chooser(is_terminal)))"
   ]
  },
  {
   "cell_type": "markdown",
   "metadata": {},
   "source": [
    "### Transition probability matrix\n",
    "\n",
    "The row normalised histogram is the transition matrix $P$, `tmat`,  where $P_{ij}$ is the probability that character $i$ is followed by character $j$."
   ]
  },
  {
   "cell_type": "code",
   "execution_count": 96,
   "metadata": {
    "collapsed": false
   },
   "outputs": [
    {
     "data": {
      "image/png": "[encoded data removed]",
      "text/plain": [
       "<matplotlib.figure.Figure at 0x1dffa58ad68>"
      ]
     },
     "metadata": {},
     "output_type": "display_data"
    }
   ],
   "source": [
    "tmat = normalize(histo, norm = 'l1', axis = 1)\n",
    "plot_histomat(tmat, xlabels = xlabels, ylabels = ylabels)\n",
    "plt.show()"
   ]
  },
  {
   "cell_type": "markdown",
   "metadata": {},
   "source": [
    "### Markov model\n",
    "\n",
    "Under the assumption that a character is only determined by the preceeding character, one can build a Markov model of the names. (We will see it is not a valid assumption later on.) The class `MarkovSequenceGenerator` creates a generator of Markov chain."
   ]
  },
  {
   "cell_type": "code",
   "execution_count": 97,
   "metadata": {
    "collapsed": false
   },
   "outputs": [],
   "source": [
    "class MarkovSequenceGenerator(object):\n",
    "    \"\"\"\n",
    "    Class to generate Markov sequences.\n",
    "    \n",
    "    Attributes:\n",
    "        decoder ({int:object}) : dictionary that decodes the states\n",
    "        encoder ({object:int}) : dictionary that assigns a unique index to every state\n",
    "        transition_matrix (np.ndarray) : row normalised transition probability matrix\n",
    "        \n",
    "    Methods:\n",
    "        create_sequence_generator (generator.object) : a generator which yields Markov sequences. \n",
    "        Each returned item is a generator of a Markov sequence.\n",
    "    \"\"\"\n",
    "    \n",
    "    def __init__(self, transition_matrix, decoder, random_state = None):\n",
    "        \"\"\"\n",
    "        transition_matrix (np.ndarray) : row normalised transition probability matrix\n",
    "        decoder ({int:object}) : dictionary that decodes the states\n",
    "        \"\"\"\n",
    "        \n",
    "        self._decoder = decoder\n",
    "        self._encoder = dict(zip(decoder.values(), decoder.keys()))\n",
    "        self._transition_matrix = transition_matrix\n",
    "        \n",
    "        # calculate cumulative probabilities for sampling\n",
    "        self.__cumprob_matrix = np.cumsum(self.transition_matrix, axis = 1)\n",
    "\n",
    "    @property\n",
    "    def decoder(self):\n",
    "        return self._decoder\n",
    "    \n",
    "    @property\n",
    "    def encoder(self):\n",
    "        return self._encoder\n",
    "            \n",
    "    @property\n",
    "    def transition_matrix(self):\n",
    "        return self._transition_matrix\n",
    "    \n",
    "    def create_sequence_generator(self, start):\n",
    "        \"\"\"\n",
    "        Creates a generator of a Markov sequence.\n",
    "        Parameters:\n",
    "            start (object) : starting state\n",
    "        Returns:\n",
    "            sequence_generator (generator) : a generator object of a Markov sequence\n",
    "        \"\"\"\n",
    "        \n",
    "        if start not in self.encoder.keys():\n",
    "            raise KeyError(\"Start value not in known states. Got: {0}\".format(start))\n",
    " \n",
    "        self.__idx = self._encoder[start]\n",
    "\n",
    "        def sequence_generator(start_index):\n",
    "            \"\"\"\n",
    "            A Markov sequence. \n",
    "                Returns the state at `start_index`\n",
    "                Propagates the chain by one step.\n",
    "            Parameters:\n",
    "                start_index (int) : index of the starting Markov state. \n",
    "            \"\"\"\n",
    "            \n",
    "            idx = start_index\n",
    "\n",
    "            while True:\n",
    "                \n",
    "                if idx is None:\n",
    "                    return\n",
    "                \n",
    "                symbol = self._decoder[idx]\n",
    "                idx = self._propagate_one_step(idx)  \n",
    "                \n",
    "                yield symbol\n",
    "                \n",
    "        return sequence_generator(self.__idx)\n",
    "    \n",
    "    def _propagate_one_step(self, idx):\n",
    "        \"\"\"\n",
    "        Propagates the Markov chain by one step.\n",
    "        Parameters:\n",
    "            idx (int) : index of the current Markov state.\n",
    "        Returns:\n",
    "            next_idx (int) or None: the index of the next Markov state. None if the chain ended.\n",
    "        \"\"\"\n",
    "        \n",
    "        x = np.random.rand()\n",
    "        \n",
    "        # nowhere to go\n",
    "        if self.__cumprob_matrix[idx, -1] == 0.0:\n",
    "            return\n",
    "        else:\n",
    "            next_idx = int(np.argwhere(self.__cumprob_matrix[idx] - x > 0.0)[0])\n",
    "\n",
    "        return next_idx"
   ]
  },
  {
   "cell_type": "markdown",
   "metadata": {},
   "source": [
    "Three random sequences are then generated."
   ]
  },
  {
   "cell_type": "code",
   "execution_count": 98,
   "metadata": {
    "collapsed": false
   },
   "outputs": [
    {
     "name": "stdout",
     "output_type": "stream",
     "text": [
      "COT INUKRDCENLE HARININDENERRBIBLLICTOIASHLOINENEL\n",
      "COINCTINE NERTOIOAMENSTAINDOYPERCOINANDSTBENTARISP\n",
      "YCKE EZEMALYPECUCRYWER BININOICOINN NECOINDERSTHEX\n"
     ]
    }
   ],
   "source": [
    "msqg = MarkovSequenceGenerator(tmat, decoder)\n",
    "\n",
    "n_seq_len = 50\n",
    "seqs = (msqg.create_sequence_generator(start) for start in ['C', 'C', 'Y'])\n",
    "\n",
    "for seq in seqs:\n",
    "    print(\"\".join(islice(seq, n_seq_len)))"
   ]
  },
  {
   "cell_type": "markdown",
   "metadata": {},
   "source": [
    "The 'C|O|I|N' motiff can be recognised in all strings. These strings are infinite for there are no terminal only characters. In order to make them finite we have to modify our model. \n",
    "\n",
    "#### Start and terminating symbols\n",
    "\n",
    "These continuous sequences reflect the probability of 2-long sequences in _all_ of the original names. Our model bears little information on the distribution of starting and ending characters. Therefore the names are blended into each other.\n",
    "\n",
    "This can be recitfied by bracketing each orginal name with start and terminating symbols. Each of them will be prepended with the start symbol **'^'**  appended by the terminating symbol **'$'**. "
   ]
  },
  {
   "cell_type": "code",
   "execution_count": 99,
   "metadata": {
    "collapsed": false
   },
   "outputs": [],
   "source": [
    "start_symbol = '^'\n",
    "end_symbol = '$'\n",
    "name_df['aug_name'] = name_df['name'].apply(lambda x: start_symbol + x + end_symbol)"
   ]
  },
  {
   "cell_type": "markdown",
   "metadata": {},
   "source": [
    "We can then calculate the transition matrix, now containing the delimting characters, in the way we did previously:"
   ]
  },
  {
   "cell_type": "code",
   "execution_count": 100,
   "metadata": {
    "collapsed": false
   },
   "outputs": [],
   "source": [
    "# create histogram with decoder\n",
    "pair_histo_aug = make_doublet_histo(name_df['aug_name'].values)\n",
    "histo_aug, decoder_aug = counter_to_np_array(pair_histo_aug, with_decoder = True)\n",
    "\n",
    "# transition matrix and labels\n",
    "tmat_aug = normalize(histo_aug, norm = 'l1', axis = 1)\n",
    "xlabels = ylabels = decoder_aug.values()"
   ]
  },
  {
   "cell_type": "code",
   "execution_count": 101,
   "metadata": {
    "collapsed": false
   },
   "outputs": [
    {
     "data": {
      "image/png": "[encoded data removed]",
      "text/plain": [
       "<matplotlib.figure.Figure at 0x1dff8789ba8>"
      ]
     },
     "metadata": {},
     "output_type": "display_data"
    }
   ],
   "source": [
    "# TO HIDE\n",
    "plot_histomat(tmat_aug, xlabels = xlabels, ylabels = ylabels)\n",
    "plt.show()"
   ]
  },
  {
   "cell_type": "markdown",
   "metadata": {},
   "source": [
    "We then generate an infinite succession of Markov sequences which are themselves finite called `seqs`."
   ]
  },
  {
   "cell_type": "code",
   "execution_count": 102,
   "metadata": {
    "collapsed": false
   },
   "outputs": [],
   "source": [
    "msqg_aug = MarkovSequenceGenerator(tmat_aug, decoder_aug)\n",
    "seqs =  (msqg_aug.create_sequence_generator(x) for x in repeat(start_symbol))"
   ]
  },
  {
   "cell_type": "markdown",
   "metadata": {},
   "source": [
    "Ten sequences are then consumed. Each of them corresponds to a generated cryptocurrency name."
   ]
  },
  {
   "cell_type": "code",
   "execution_count": 103,
   "metadata": {
    "collapsed": false
   },
   "outputs": [
    {
     "name": "stdout",
     "output_type": "stream",
     "text": [
      "0 \t:\t ^RINLBIN$\n",
      "1 \t:\t ^COITS$\n",
      "2 \t:\t ^KECOSY$\n",
      "3 \t:\t ^MITCOIAYM$\n",
      "4 \t:\t ^COIOTIN$\n",
      "5 \t:\t ^GRESANCENARSCO AL BUMBINGHOK$\n",
      "6 \t:\t ^LOCHEN$\n",
      "7 \t:\t ^VEN$\n",
      "8 \t:\t ^TOIUARTROLERARICHGON$\n",
      "9 \t:\t ^LEUN$\n"
     ]
    }
   ],
   "source": [
    "n_seqs = 10\n",
    "for idx, seq in enumerate(islice(seqs, n_seqs)):\n",
    "    print(idx, \"\\t:\\t\", \"\".join(seq))"
   ]
  },
  {
   "cell_type": "markdown",
   "metadata": {},
   "source": [
    "### How good is our model?\n",
    "\n",
    "First of all one has to define what goodness means. There is a plethora of properties that can be calculated for both the reference and generated sets. Some of them are expected to be identical, such as character and digram frequencies. Some of them _e.g._ name length distribution are not, for the Markov process has no information about its length.\n",
    "\n",
    "Firstly, we test the digram frequencies. The measure of goodness will be the L2 distance between the digram distributions. The overlap will depend on the sample size. Thus we use a succession of samples of increasing size to test this effect.\n",
    "\n",
    "The population of generated words is called `generated_words`."
   ]
  },
  {
   "cell_type": "code",
   "execution_count": 104,
   "metadata": {
    "collapsed": false
   },
   "outputs": [],
   "source": [
    "generated_words = np.asarray([\"\".join(seq) for seq in islice(seqs, 20000)])"
   ]
  },
  {
   "cell_type": "code",
   "execution_count": 105,
   "metadata": {
    "collapsed": false
   },
   "outputs": [],
   "source": [
    "sample_specs = {100 : 10, 500 : 10, 1000 : 10, 2000 : 10, 5000 : 10, 10000 : 10}\n",
    "encoder_aug = dict(zip(decoder_aug.values(), decoder_aug.keys()))\n",
    "\n",
    "sample_size_log, diff_log = [], []\n",
    "\n",
    "for sample_size, repeats in sample_specs.items():\n",
    "    \n",
    "    for idx in range(repeats):\n",
    "        # sample names and create transition matrix\n",
    "        sample = np.random.choice(generated_words, size = sample_size)\n",
    "        sample_histo = fill_np_array_with_counter(make_doublet_histo(sample), encoder_aug)\n",
    "        \n",
    "        # calculate difference\n",
    "        diff = normalised_l2_diff(sample_histo, histo_aug)\n",
    "        diff_log.append(diff) \n",
    "        sample_size_log.append(sample_size)"
   ]
  },
  {
   "cell_type": "markdown",
   "metadata": {},
   "source": [
    "The digram frequencies of the reference and generated names converge to each other as the sample size increases. At a sample size of 2000 the two distributions are practically identical"
   ]
  },
  {
   "cell_type": "code",
   "execution_count": 106,
   "metadata": {
    "collapsed": false
   },
   "outputs": [
    {
     "data": {
      "image/png": "[encoded data removed]",
      "text/plain": [
       "<matplotlib.figure.Figure at 0x1dff55aa6a0>"
      ]
     },
     "metadata": {},
     "output_type": "display_data"
    }
   ],
   "source": [
    "# TO HDE       \n",
    "fig, ax = plt.subplots(1,1)\n",
    "ax.set_xlabel(\"sample size\")\n",
    "ax.set_ylabel(r'$L_{2}$')\n",
    "ax.set_yscale(\"log\")\n",
    "\n",
    "sns.boxplot(x = np.asarray(sample_size_log), y = np.asarray(diff_log), ax = ax)\n",
    "ax.xaxis.grid(color  = 'black', linestyle='--', linewidth = 0.1)\n",
    "ax.yaxis.grid(color  = 'black', linestyle='--', linewidth = 0.1)\n",
    "\n",
    "plt.show()"
   ]
  },
  {
   "cell_type": "markdown",
   "metadata": {},
   "source": [
    "#### Name length distribution\n",
    "\n",
    "Next, the length distributions of the reference and generated names are compared. The percentile bootstrap method is invoked to estimate the distributions and their confidence bands. A simple bootstrap algorithm is implemented in the [`SlimBootstrap` class](### Bootstrap class).\n",
    "\n",
    "Firstly, the lengths of the generated names are calculated."
   ]
  },
  {
   "cell_type": "code",
   "execution_count": 107,
   "metadata": {
    "collapsed": true
   },
   "outputs": [],
   "source": [
    "word_lengths = np.array([len(x) for x in generated_words])\n",
    "max_len = np.max(word_lengths)"
   ]
  },
  {
   "cell_type": "markdown",
   "metadata": {},
   "source": [
    "The bootstrap estimate and confidence bands are stored in the `wl_dist` array."
   ]
  },
  {
   "cell_type": "code",
   "execution_count": 108,
   "metadata": {
    "collapsed": false
   },
   "outputs": [],
   "source": [
    "bins = np.arange(max_len + 1)\n",
    "bstr = SlimBootstrap(func = sample_to_distribution, func_kwargs = {'bins' : bins})\n",
    "wl_dist = bstr.fit_predict(word_lengths)"
   ]
  },
  {
   "cell_type": "markdown",
   "metadata": {},
   "source": [
    "We then bootstrap the reference cryptocurrency names and compare the two distributions."
   ]
  },
  {
   "cell_type": "code",
   "execution_count": 109,
   "metadata": {
    "collapsed": false
   },
   "outputs": [],
   "source": [
    "ref_word_lengths = name_df['name_len'].values\n",
    "ref_bstr = SlimBootstrap(func = sample_to_distribution, func_kwargs = {'bins' : bins})\n",
    "ref_wl_dist = bstr.fit_predict(ref_word_lengths)"
   ]
  },
  {
   "cell_type": "code",
   "execution_count": 110,
   "metadata": {
    "collapsed": false
   },
   "outputs": [
    {
     "data": {
      "image/png": "[encoded data removed]",
      "text/plain": [
       "<matplotlib.figure.Figure at 0x1dffa399e80>"
      ]
     },
     "metadata": {},
     "output_type": "display_data"
    }
   ],
   "source": [
    "# TO HIDE\n",
    "fig, ax = plt.subplots(1,1)\n",
    "\n",
    "ax.plot(np.arange(ref_wl_dist.shape[1]), ref_wl_dist[0], color = 'blue', label = 'reference')\n",
    "ax.fill_between(np.arange(ref_wl_dist.shape[1]), ref_wl_dist[1], ref_wl_dist[2], \n",
    "                color = 'blue', alpha = 0.5)\n",
    "\n",
    "ax.plot(np.arange(wl_dist.shape[1]), wl_dist[0], color = 'orange', label = 'generated')\n",
    "ax.fill_between(np.arange(wl_dist.shape[1]), wl_dist[1], wl_dist[2], \n",
    "                color = 'orange', alpha = 0.5)\n",
    "\n",
    "ax.grid(color  = 'black', linestyle='--', linewidth = 0.1)\n",
    "ax.set_xlim((0, 80))\n",
    "ax.set_ylim((0, 0.2))\n",
    "\n",
    "ax.set_xlabel(r'$n_{length}$')\n",
    "ax.set_ylabel(r'$P(n_{legth})$')\n",
    "plt.legend(loc='best', ncol = 1, fancybox = True)\n",
    "\n",
    "plt.show()"
   ]
  },
  {
   "cell_type": "markdown",
   "metadata": {},
   "source": [
    "The two distributions markedly differ. The generated distribution is much wider and peaks at shorter lengths with respect to the reference one. This is due to the fact that the Markov model does not have memory. The probability that a sequence (a name) ends only depends on the probability of current character followed by the end symbol. It is independent of the absulute position of the current charachter.\n",
    "\n",
    "This defect of the model can be mitigated by the inclusion of 3-grams, 4-gramms etc in the Markov matrix. Also, one can design a recurrent neural network where the information on all to preceeding characters are used with some weight."
   ]
  },
  {
   "cell_type": "markdown",
   "metadata": {},
   "source": [
    "### Remarks\n",
    "\n",
    "The goodness of fit warrants some further attention. Let us assume we have an alphabet $\\Sigma$ whose Kleene star, $L$, contains every possible (existing or yet to be coined) crytocurrency names, $L_{c,all}$. The current selection of crytocurrency names, $L_{c}$, is a subset of all cryptocurrency names.\n",
    "\n",
    "$$\n",
    "\\begin{eqnarray}\n",
    "L &=& \\Sigma^{*} \\\\\n",
    "L_{c,all} &\\subseteq & L \\\\\n",
    "L_{c} & \\subseteq & L_{c,all}\n",
    "\\end{eqnarray}\n",
    "$$\n",
    "\n",
    "Our model can only use the alphabet $\\Sigma$ and is required to produce words that are in $L$. The all possible generated names constitute the set $L_{g, all}$ which has a subset the realised names, $L_{g}$. One can think of the $L_{g, all}$ as all the Markov sequences, and $L_{g}$ as those are consumed.\n",
    "\n",
    "$$\n",
    "\\begin{eqnarray}\n",
    "L_{g,all} & \\subseteq & L \\\\\n",
    "L_{g} &\\subseteq& L_{g,all}\n",
    "\\end{eqnarray}\n",
    "$$\n",
    "\n",
    "Our aim is to write a model which maximises the $L_{g} \\cap L_{c,all}$ intersection. It is immediately seen this task is ill-defined for the following issues:\n",
    "\n",
    "* We do not know how the sizes of $L_{g}$ and $L_{g, all}$ compare. We therefore have to experiment at which sample size the fluctuations of its statistical properties of interest subdue to a sufficient level.\n",
    "* We also do not know whether the properties of $L_{c}$ are true representatives those of $L_{c, all}$. We can only assume they are identical.\n",
    "* The fluctuations of the properties of $L_{c}$ should also be estimated in order to determine to what extent to randomly selected not overlapping subset of $L_{c}$ are identical with respect to these properties. (i.e. if we train on a model on a subset, how well it is expected to perform.)\n",
    "* As a consequence the goodness of the model can only be estimated by comparing the selected properties of $L_{g}$ and $L_{c}$.\n",
    "\n",
    "In fact, this is exactly what we did when bootstrapped the reference and generated length distributions."
   ]
  },
  {
   "cell_type": "markdown",
   "metadata": {},
   "source": [
    "## Appendix\n",
    "\n",
    "These functions were used in the main body of the post. They deliver only a modest amount of excitement hence I moved them to the Appendix."
   ]
  },
  {
   "cell_type": "markdown",
   "metadata": {},
   "source": [
    "### Functions to create and manipulate `numpy` histograms"
   ]
  },
  {
   "cell_type": "code",
   "execution_count": 111,
   "metadata": {
    "collapsed": true
   },
   "outputs": [],
   "source": [
    "def counter_to_np_array(counter, with_decoder = False):\n",
    "    \"\"\"\n",
    "    Creates a numpy array based on a counter.\n",
    "    Parameters:\n",
    "        counter (collection.Counter) : a counter of length 2 keys\n",
    "        with_decoder (bool) : if True returns a decoder dictionary. Default: False.\n",
    "    Returns:\n",
    "        array (np.ndarray) : 2D numpy array where each index corresponds to a key in counter. \n",
    "        The value at a certain index is the corresponding count\n",
    "        decoder ({:}) : a index : key dictionary if `with_decoder` is True\n",
    "    \"\"\"\n",
    "    \n",
    "    # key must be an iterable of length two\n",
    "    key, count = counter.most_common(1)[0]\n",
    "    key = list(key)\n",
    "    \n",
    "    if len(key) != 2:\n",
    "        raise KeyError(\"counter key must be of length 2. Got: {0}\".format(len(key)))\n",
    "        \n",
    "    # decompose to key count pairs\n",
    "    keys, counts = counter.keys(), counter.values()\n",
    "    \n",
    "    # encode keys\n",
    "    unique_symbols = set(chain(*keys))\n",
    "    encoder = dict(zip(unique_symbols, range(len(unique_symbols))))\n",
    "    xy = np.asarray([encoder[x] for x in chain(*keys)])\n",
    "    xy = np.reshape(xy, (xy.shape[0] // 2, 2))\n",
    "\n",
    "    # create histogram\n",
    "    bins = np.arange(np.max(xy) + 2)\n",
    "    weights = np.array(list(counts))\n",
    "    array, _, _ = np.histogram2d(xy[:,0], xy[:,1], bins = [bins, bins], weights = weights)\n",
    "    \n",
    "    # add decoder if requested\n",
    "    if with_decoder:\n",
    "        decoder = dict(zip(encoder.values(), encoder.keys()))\n",
    "        \n",
    "        return array, decoder\n",
    "    else:\n",
    "        return array"
   ]
  },
  {
   "cell_type": "code",
   "execution_count": 112,
   "metadata": {
    "collapsed": false
   },
   "outputs": [],
   "source": [
    "def fill_np_array_with_counter(counter, encoder):\n",
    "    \"\"\"\n",
    "    Fills a numpy array with a counter. It performs a *key --> *index transformation.\n",
    "    Parameters:\n",
    "        counter (collections.Counter) : a counter where all keys are of equal length.\n",
    "        encoder ({}) : the keys are the keys of the counter (or a superset thereof) the values are integer indices.\n",
    "    Returns:\n",
    "        array (np.ndarray) : numpy array with counts.\n",
    "    \"\"\"\n",
    "    \n",
    "    n_size = len(encoder)\n",
    "    mat = np.zeros(shape = (n_size, n_size), dtype = np.float)\n",
    "    \n",
    "    for (kx, ky), count in counter.items():\n",
    "        mat[encoder[kx], encoder[ky]] = count\n",
    "        \n",
    "    return mat"
   ]
  },
  {
   "cell_type": "markdown",
   "metadata": {},
   "source": [
    "### Miscellaneous numeric functions"
   ]
  },
  {
   "cell_type": "code",
   "execution_count": 113,
   "metadata": {
    "collapsed": false
   },
   "outputs": [],
   "source": [
    "def normalised_l2_diff(p, q):\n",
    "    \"\"\"\n",
    "    Calculates the normalised L2 difference between two arrays.\n",
    "    Parameters:\n",
    "        p (np.ndarray) : first distribution\n",
    "        q (np.ndarray) : second distribution\n",
    "    Returns:\n",
    "        diff (np.float) : the L2 difference between the normalised p, and q distributions\n",
    "    \"\"\"\n",
    "    \n",
    "    p_ = normalize(p)\n",
    "    q_ = normalize(q)\n",
    "    \n",
    "    denominator = (np.square(p_) + np.square(q_))\n",
    "    if not np.any(denominator):\n",
    "        raise ValueError(\"Both distributions are zero.\")\n",
    "        \n",
    "    diff = np.sum(np.square(p_ - q_)) / np.sum(denominator)\n",
    "    \n",
    "    return diff"
   ]
  },
  {
   "cell_type": "code",
   "execution_count": 114,
   "metadata": {
    "collapsed": true
   },
   "outputs": [],
   "source": [
    "def sample_to_distribution(arr, *args, **kwargs):\n",
    "    hist =  np.histogram(arr, *args, **kwargs)[0]\n",
    "     \n",
    "    sum_ = np.sum(hist)\n",
    "    if sum_ == 0.0:\n",
    "        hist = np.zeros(hist.shape)\n",
    "    else:\n",
    "        hist = hist * 1.0 / sum_ \n",
    "    \n",
    "    return hist"
   ]
  },
  {
   "cell_type": "markdown",
   "metadata": {},
   "source": [
    "### Miscellaneous helper functions"
   ]
  },
  {
   "cell_type": "code",
   "execution_count": 115,
   "metadata": {
    "collapsed": true
   },
   "outputs": [],
   "source": [
    "def load_df_from_json(path_to_file, orient = 'index'):\n",
    "    \"\"\"\n",
    "    Loads a pandas dataframe from a json file.\n",
    "    Parameters:\n",
    "        path_to_file (str) : **full** path to the json storage\n",
    "        orient (str) : orientation of the json (see pandas.read_json for details)\n",
    "    Returns:\n",
    "        df (pandas.DataFrame) : a dataframe\n",
    "    \"\"\"\n",
    "    with open(path_to_file, 'r') as fproc:\n",
    "        df = pd.read_json(fproc, orient = orient)        \n",
    "    return df"
   ]
  },
  {
   "cell_type": "markdown",
   "metadata": {},
   "source": [
    "### Plotting functions"
   ]
  },
  {
   "cell_type": "code",
   "execution_count": 116,
   "metadata": {
    "collapsed": true
   },
   "outputs": [],
   "source": [
    "def plot_histomat(mat, ax = None, xlabels = None, ylabels = None):\n",
    "    \n",
    "    if ax is None:\n",
    "        fig, ax = plt.subplots(1,1)\n",
    "        fig.set_size_inches(8,8)\n",
    "        \n",
    "    n_xticks, n_yticks = mat.shape\n",
    "    \n",
    "    extent = (0, n_xticks, n_yticks, 0)\n",
    "    \n",
    "    ax.grid(color  = 'black', linestyle='--', linewidth = 0.1)\n",
    "    \n",
    "    ax.set_xticks(np.arange(n_xticks))\n",
    "    ax.set_yticks(np.arange(n_yticks))\n",
    "    \n",
    "    if xlabels is not None:\n",
    "        ax.set_xticklabels(xlabels)\n",
    "    \n",
    "    if ylabels is not None:\n",
    "        ax.set_yticklabels(ylabels)\n",
    "    \n",
    "    ax.imshow(mat, extent = extent, cmap = 'Greens', vmin = 0)"
   ]
  },
  {
   "cell_type": "markdown",
   "metadata": {},
   "source": [
    "### Bootstrap class"
   ]
  },
  {
   "cell_type": "code",
   "execution_count": 117,
   "metadata": {
    "collapsed": false
   },
   "outputs": [],
   "source": [
    "class SlimBootstrap(object):\n",
    "    \"\"\"\n",
    "    Simple percentile bootstrap class.\n",
    "    Attributes:\n",
    "        n_resample (int) : number of samples\n",
    "        sample_size (int) : sample size -- number of elements taken from the population.\n",
    "        alpha (float) : significance level at which the confidence interval is calculated\n",
    "    \n",
    "    Methods:\n",
    "        fit() : calculates the percenticle bootstrap estimate and confidence bands\n",
    "        fit_predict() : returns the calculated estimate and confidence bands\n",
    "    \"\"\"\n",
    "    \n",
    "    def __init__(self, n_resample = 2000, sample_size = 1000, alpha = 0.05,\n",
    "                 func = lambda x: x, func_args = [], func_kwargs = {}):\n",
    "        \"\"\"\n",
    "        Parameters:\n",
    "            n_resample (int) : number of samples. Default 2000.\n",
    "            sample_size (int) : sample size -- number of elements taken from the population. Default 1000.\n",
    "            alpha (float) : significance level at which the confidence interval is calculated. Default 0.05.\n",
    "            func (callable) : function which is applied to the samples. The result of this function is bootstrapped.\n",
    "                The bootstrap function can return any object as long as it can be cast to a regular np.ndarray\n",
    "                Default : identity function\n",
    "            func_args ([]) : positional arguments of func. Default [].\n",
    "            func_kwargs ({:}) : keyword arguments of func. Default {}.\n",
    "        \"\"\"\n",
    "        \n",
    "        self._n_resample = n_resample\n",
    "        self._sample_size = sample_size\n",
    "        self._alpha = alpha\n",
    "        self._func = func\n",
    "        self._func_args = func_args\n",
    "        self._func_kwargs = func_kwargs\n",
    "    \n",
    "    @property\n",
    "    def alpha(self):\n",
    "        return self._alpha\n",
    "    \n",
    "    @property\n",
    "    def n_resample(self):\n",
    "        return self._n_resample\n",
    "    \n",
    "    @property\n",
    "    def sample_size(self):\n",
    "        return self._sample_size\n",
    "    \n",
    "    def _generate_samples(self):\n",
    "        self.__samples = (np.random.choice(self.__population, self.sample_size) \n",
    "                              for i in range(self.n_resample))\n",
    "    \n",
    "    def _set_population(self, population):\n",
    "        self.__population = population\n",
    "            \n",
    "    def fit(self, population):\n",
    "        \"\"\"\n",
    "        Calculates the bootstrap estimate and confidence bands. \n",
    "        Parameters:\n",
    "            population (indexable) : the population to be sampled.\n",
    "        Returns:\n",
    "            self\n",
    "        Notes:\n",
    "            The return values of the function are sorted along the first axis.\n",
    "        \"\"\"\n",
    "    \n",
    "        self._set_population(population)\n",
    "        \n",
    "        self._generate_samples()\n",
    "    \n",
    "        # 1) It would be better to apply the function to the entire population\n",
    "        # simultaneously. However, it is not granted that the function is written that way.\n",
    "        \n",
    "        # 2) consume the generator here, so it can be cast as an array quicker\n",
    "        measurements = list(self._func(x, *self._func_args, **self._func_kwargs) \n",
    "                                for x in self.__samples)\n",
    "\n",
    "        store = np.array(measurements)\n",
    "        \n",
    "        # sort in place along first axis\n",
    "        store.sort(axis = -store.ndim)\n",
    "        \n",
    "        # bootstrap estimate\n",
    "        estimate = np.mean(store, axis = -store.ndim)\n",
    "        \n",
    "        # confidence bands\n",
    "        i_low = int(self._alpha / 2.0 * self._n_resample)\n",
    "        i_up = int((1.0 - self._alpha / 2.0) * self._n_resample)\n",
    "        \n",
    "        cb_low = store[i_low]\n",
    "        cb_up = store[i_up]\n",
    "        \n",
    "        self._result = np.array((estimate, cb_low, cb_up))\n",
    "        \n",
    "        return self\n",
    "    \n",
    "    def fit_predict(self, population):\n",
    "        \"\"\"\n",
    "        Convenience wrapper around the `fit` method.\n",
    "        Parameters:\n",
    "            population (indexable) : population to be sampled\n",
    "        Returns:\n",
    "            self._result (np.ndarray) : the estimate and confidence bands\n",
    "            _result[0] : estimate\n",
    "            _result[1] : lower bound of confidence band\n",
    "            _result[2] : upper bound of confidence band\n",
    "        \"\"\"\n",
    "        return self.fit(population)._result"
   ]
  }
 ],
 "metadata": {
  "kernelspec": {
   "display_name": "Python 3",
   "language": "python",
   "name": "python3"
  },
  "language_info": {
   "codemirror_mode": {
    "name": "ipython",
    "version": 3
   },
   "file_extension": ".py",
   "mimetype": "text/x-python",
   "name": "python",
   "nbconvert_exporter": "python",
   "pygments_lexer": "ipython3",
   "version": "3.6.0"
  }
 },
 "nbformat": 4,
 "nbformat_minor": 2
}
