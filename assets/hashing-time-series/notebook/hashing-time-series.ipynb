{
 "cells": [
  {
   "cell_type": "code",
   "execution_count": 1,
   "metadata": {
    "collapsed": true
   },
   "outputs": [],
   "source": [
    "from IPython.display import Latex, Math\n",
    "from IPython.display import Image"
   ]
  },
  {
   "cell_type": "code",
   "execution_count": 2,
   "metadata": {
    "collapsed": true
   },
   "outputs": [],
   "source": [
    "import json\n",
    "\n",
    "import numba\n",
    "import numpy as np\n",
    "import pandas as pd\n",
    "from scipy.stats import linregress\n",
    "\n",
    "import matplotlib.pyplot as plt\n",
    "from mpl_toolkits.mplot3d import Axes3D"
   ]
  },
  {
   "cell_type": "code",
   "execution_count": 3,
   "metadata": {
    "collapsed": true
   },
   "outputs": [],
   "source": [
    "plt.rc('font', size = 12)"
   ]
  },
  {
   "cell_type": "markdown",
   "metadata": {},
   "source": [
    "# Hashing accelerated segmentation of timeseries\n",
    "\n",
    "\n",
    "In this blog post, we are going to investigate a possible way to speed up segmentation of time series. A time series is an ordered sequence of elements. A segment is a region of the timeseries where the observations are similar according to some measure. The aim is to identify these regions.\n",
    "\n",
    "## Preliminaries\n",
    "\n",
    "### Basic definitions\n",
    "\n",
    "#### Time series\n",
    "\n",
    "Let us assume we have a time series, $F$. We can formally define it as\n",
    "\n",
    "$$\n",
    "\\begin{eqnarray}\n",
    "& &! N \\in \\mathbb{N}, N > 1           \n",
    "\\quad  &\\textit{(length of the timeseries)}\\\\\n",
    "& &\\mathbb{I} \\subseteq \\mathbb{N}, \\forall i \\in \\mathbb{I}: 0 < i \\leq N \n",
    "\\quad &\\textit{(indices of the time series elements)}\\\\\n",
    "& & ! f \\in \\mathbb{X} \\rightarrow \\mathbb{Y}  \n",
    "\\quad &  \\textit{(underlying function of timeseries)}\\\\\n",
    "& & \\forall i, j \\in \\mathbb{I}: i < j \\land \\forall x_{i}, x_{j} \\in \\mathbb{X}  \\implies x_{i} < x_{j} \\quad &\\textit{(ordering)} \\\\\n",
    "& & !F := \\{f_{i} := \\big(i, f(x_{i})\\big), i \\in \\mathbb{I} \\}   \n",
    "\\quad & \\textit{(timeseries as a set of ordered pairs)}\n",
    " \\end{eqnarray}\n",
    "$$\n",
    "\n",
    "#### Segmentation\n",
    "\n",
    "A segmentation, $S$ is the division of the time series, $F$ to non overlapping sequences.\n",
    "\n",
    "$$\n",
    "\\begin{eqnarray}\n",
    "& &! K \\in \\mathbb{N}, 0 < K \\leq N \n",
    "\\quad & \\textit{(number of segments)}   \\\\\n",
    "& &\\mathbb{K} \\subseteq \\mathbb{N}, \\forall k \\in \\mathbb{K}: 0 < k \\leq K \n",
    "\\quad &\\textit{(indices of the segments)}\\\\\n",
    "& &S_{k} \\subseteq F \n",
    "\\quad & \\textit{(part of the timeseries)} \\\\\n",
    "& & |S_{k}| > 0 \\quad & \\textit{(not empty)}   \\\\\n",
    "& & \\forall |S_{k}| > 1: \\, \\forall \\, f_{i} \\, \\exists j, j \\neq i: \\,  f_{j} \\in S_{k} \\, \\land \\, |i-j| = 1\n",
    "\\quad & \\textit{(subsequent time series elements in a segment)}\\\\\n",
    "& & \\forall k < l \\in \\mathbb{K} : \\, \\, \\forall f_{i} \\in S_{k}, \\forall f_{j} in S_{l} : i < j\n",
    "\\quad & \\textit{(segments are ordered)} \\\\\n",
    "& &\\forall k,l: S_{k} \\cap S_{l} = \\emptyset\n",
    "\\quad & \\textit{(therefore they do not overlap)}\\\\\n",
    "& & S = \\bigcup\\limits_{k = 1}^{k} S_{k} \n",
    "\\quad & \\textit{(segmentation is the collection of segments)}\n",
    "\\end{eqnarray}\n",
    "$$\n",
    "\n",
    "The set of all segmentations will be denoted as $\\mathbb{S}$.\n",
    "\n",
    "#### Loss function\n",
    "\n",
    "The goodness of the segmentation is measured by a loss function, L which is the function of the timeseries and the segmentation. \n",
    "\n",
    "$$\n",
    "L \\in (f, \\mathbb{S}) \\rightarrow \\mathbf{R}\n",
    "$$\n",
    "\n",
    "A segmentation is said to be optimal if it minimises the loss function. The optimal parition will be denoted by $S^{*}$. The problem is to find this parition:\n",
    "\n",
    "$$\n",
    "S^{*} = \\underset{S \\in \\mathbb{S}}{\\operatorname{argmin}}  L(f, S)\n",
    "$$\n",
    "\n",
    "So good, so far. In the following, it will be shown that some segmentations and loss functions can be defineined in a way that offers the possibility of speeding up the optimisation process.\n",
    "\n",
    "### Special components and requirements\n",
    "\n",
    "#### Additive loss function\n",
    "\n",
    "We now make a serious requirement on the loss function. It is required to be additive over the segments of a particular segmentation:\n",
    "$$\n",
    "L(f, S) = \\sum\\limits_{k=1}^{K} L_{k}(f,S_{k}) \n",
    "$$\n",
    "\n",
    "#### Fixed length blocks\n",
    "\n",
    "The time series is segmented to a sequence fixed length blocks, $\\{B_{1}, B_{2}, ..., B_{N_{b}} \\} = B \\in \\mathbb{S}$.  The membership of the blocks do not change in the following. The blocks are chosen according to some assumptions. For example, each block has if of approximately the same length, of some property of interest is constant in a block.\n",
    "\n",
    "#### Binary encoding\n",
    "\n",
    "A segmentation, $S$ can be constructed using the blocks defined above.\n",
    "\n",
    "The relationship between two adjacent blocks, $B_{i}, B_{i+1}, 0 < i < |B|$ can be represented by a binary variable, $c_{i}$. $c_{i}$ is unit if the $i$-th block is the same segment as the $i+1$-th.\n",
    "$$\n",
    "c_{i} = \n",
    "\\begin{cases}\n",
    "1, \\, \\, \\text{if} \\,\\, B_{i} \\subseteq S_{k} \\land B_{i+1} \\subseteq S_{k}\\\\\n",
    "0, \\,\\,\\text{else}\n",
    "\\end{cases}\n",
    "$$\n",
    "\n",
    "Therefore every segmentation constructed from  $N_{b} = |B|$ blocks can be represented by a binary string of length $N_{b} - 1$.For example, if we have five blocks the (1,2)(3,4,5) partition can be represented as **1011**. \n",
    "\n",
    "#### Hashing\n",
    "\n",
    "Every solution constructed from the blocks is thus can be represented by a string. Each string can be broken down to segments consisting connected blocks. The string **1011** can be written as **1 + (0) + 11**. For the loss function is additive the segments, total loss will be the sum of the partial losses associated with each substring.\n",
    "\n",
    "$$\n",
    "F\\big(((1,2),(3,4,5))\\big) = F(1xxx) + F(xx11)\n",
    "$$\n",
    "\n",
    "There is a fixed number of connected block arrangements or patterns.\n",
    "\n",
    "$$\n",
    "N_{p} = \\frac{(N_{b}+1)N_{b}}{2}\n",
    "$$\n",
    "\n",
    "For example for a five block long string:\n",
    "\n",
    "$$\n",
    "\\begin{aligned}\n",
    "& \\text{two-block:}  \\,  1xxx , x1xx, xx1x, xxx1, \\\\\n",
    "& \\text{three-block:} \\, 11xx , x11x, xx11, \\\\\n",
    "& \\text{four-block:}  \\, 111x , x111, \\\\\n",
    "& \\text{five-block:}  \\, 1111 , \\\\\n",
    "& \\text{standalone block:}        \\, 00xx , x00x, xx00, xxx0\n",
    "\\end{aligned}\n",
    "$$\n",
    "\n",
    "where **x** does not contribute to the loss function, and **00** signifies a standalone block. Each of these patterns has a loss value which can be computed and stored in hash table. \n",
    "\n",
    "#### Evaluating the loss function from a hash table\n",
    "\n",
    "Whenever a segmentation is encountered it is broken down to patterns. The values of those patterns are looked up from the hash table. These values are then summed which returns the value of the loss function.\n",
    "\n",
    "#### Summary\n",
    "\n",
    "To recap: the solution space is large $2^{N_{b}-1}$ which can be covered with the combinations of patterns. The number of patterns is $\\frac{(N_{b}+1)N_{b}}{2}$. To put it in context, if there are 21 blocks, $2^{20} \\approx 1,000,000$ solutions exist. The entire loss function space can be covered with the combination $21 \\times 22/2 = 231$ hashed values."
   ]
  },
  {
   "cell_type": "markdown",
   "metadata": {},
   "source": [
    "## Algorithms and implementation\n",
    "\n",
    "### General algorithm\n",
    "\n",
    "The general algorithm can be divided to two subalgorithms according to their concerns. Firstly, the hash table has to be **prepared**. The **evaluation** takes place inside an optimisation algorithm of the user's choice.\n",
    "\n",
    "**Preparation**\n",
    "1. Define timeseries\n",
    "1. Specify number of blocks\n",
    "1. Divie timeseries to blocks\n",
    "1. Define loss function \n",
    "1. Generate all patterns\n",
    "1. Calculate hash of patterns and the associcated loss\n",
    "1. Hash the above values\n",
    "\n",
    "**Evaluation**\n",
    "1. Generate a segmentation on the basis of blocks\n",
    "1. Decompose the segmentation to blocks\n",
    "1. Look up pattern loss values from hash table\n",
    "1. Sum up pattern losses\n",
    "\n",
    "#### Construction of hash table\n",
    "\n",
    "Firstly, we choose the number of blocks, $N_{b}$, and divide the series, $f$ to blocks. Then all possible patterns (1xx, x1x, etc...), $\\mathbb{P}$ are generated. The hash keys of the patterns are calculated. The cost of merging the blocks to patterns,  $\\texttt{MergeCost}$, are calculated too and saved in the hashtable, _HashTable_ at the corresponding hash key. This algorithm is implemented  as the `create_table` method of `HashBrown` class.\n",
    "\n",
    " $$\n",
    "\\begin{eqnarray}\n",
    "&   &  \\textbf{Algorithm:} \\, \\texttt{Construct Hash Table} \\\\\n",
    "&0.\\, &  \\quad \\texttt{ConstructHashTable}(f, N, \\texttt{MergeCost)} \\\\\\\n",
    "&1.\\, &  B = \\{b_{1}, b_{2}, ... b_{N} \\} \\leftarrow f \\\\\n",
    "&2.\\, & HashTable \\leftarrow {:} \\\\\n",
    "&3.\\, & \\textbf{For} \\, p \\in \\mathbb{P} \\\\\n",
    "&3.1   & \\quad       w \\leftarrow \\texttt{MergeCost}(p) \\\\\n",
    "&3.2   & \\quad       h \\leftarrow \\texttt{Hash}(p) \\\\\n",
    "&3.3   & \\quad  HashTable(h) \\leftarrow w \\\\\n",
    "&4.\\, & \\mathbf{return} \\, HashTable\n",
    "\\end{eqnarray}\n",
    "$$\n",
    "\n",
    "#### Evaluation of the loss function\n",
    "\n",
    "The loss function is evaluated for a certain segmentation, $S$ in the following way. The segmentation is decomposed to patterns. The hash of each pattern is calculated. Finally the values are looked up from the hash table, _HashTable_. The sum of the values returns the loss function at the segmentation.\n",
    "\n",
    " $$\n",
    "\\begin{eqnarray}\n",
    "&   &  \\textbf{Algorithm:} \\, \\texttt{Calculate Loss Function} \\\\\n",
    "&0.\\, &  \\quad \\texttt{LossFunction}(S, HashTable) \\\\\n",
    "&1.\\, & W \\leftarrow 0 \\\\\n",
    "&2.\\, & hashes \\leftarrow \\texttt{Translate}(S) \\\\\n",
    "&3.\\, & \\textbf{For} \\, h \\in hashes \\\\\n",
    "&3.1   & \\quad       w \\leftarrow HashTable(h) \\\\\n",
    "&3.2   & \\quad       W \\leftarrow W + w \\\\\n",
    "&4.\\, & \\mathbf{return} \\, W\n",
    "\\end{eqnarray}\n",
    "$$\n",
    " \n",
    "#### Translation of segmentations to set of hash keys\n",
    "\n",
    "As a first step the segmentation is decomposed to a sequence of patterns. Each pattern is encoded by its position and length, $(p, l)$. For example, 11100110110 would be (0,3), (4,0) (6,2), (8,2) (9,0). These doublets can be used as keys in the hash table right away, or they can be converted to integers. This is a choicee between the cost of hashing tuples, and cost of converting to integer and using an integer as a hash key (in python, the hash of a positive integer is itself).\n",
    "\n",
    "##### Hash function\n",
    "\n",
    "We choose to use an integer hash function, `calculate_pattern_hash`. For a given position, $p$, length, $l$ and number of blocks, $N_{b}$ the hash is\n",
    "\n",
    "$$\n",
    "\\texttt{Hash}(p, l; N_{b}) = \\frac{(l-1)\\cdot  (2 \\cdot N_{b} - (l -2))  }{2} + p \\, .\n",
    "$$\n",
    " "
   ]
  },
  {
   "cell_type": "code",
   "execution_count": 4,
   "metadata": {
    "collapsed": true
   },
   "outputs": [],
   "source": [
    "@numba.jit(nopython = True)\n",
    "def calculate_pattern_hash(pattern_spec, arrlen):\n",
    "    \"\"\"\n",
    "    Parameters:\n",
    "        pattern ((int,int)) : the position and length of a pattern\n",
    "        arrlen (int) : length of binary encoding array (number of blocks - 1)\n",
    "    Returns:\n",
    "        hash_ (int) : the hash of the pattern\n",
    "    \"\"\"\n",
    "    \n",
    "    pos, length = pattern_spec\n",
    "\n",
    "    hash_ = (length - 1) * (2 * arrlen - (length - 2)) // 2 + pos\n",
    "        \n",
    "    return hash_"
   ]
  },
  {
   "cell_type": "markdown",
   "metadata": {},
   "source": [
    "##### Decomposition\n",
    "\n",
    "The decompostion of a segmentation is implemented in the `translate_segmentation` function.\n",
    "$$\n",
    "\\begin{eqnarray}\n",
    "&   &  \\textbf{Algorithm:} \\, \\texttt{Translate} \\\\\n",
    "&0.\\, &  \\quad \\texttt{Translate}(S) \\\\\n",
    "&1.\\, & \\mathbb{H} \\leftarrow \\emptyset \\\\\n",
    "&2.\\, & positions, lengths \\leftarrow S \\\\\n",
    "&3.\\, & \\textbf{For} \\, p, l \\in (positions, lengths) \\\\\n",
    "&3.1   & \\quad       h \\leftarrow Hash(p, l) \\\\\n",
    "&3.2   & \\quad       \\mathbb{H} \\leftarrow \\mathbb{H} \\cup \\{h\\} \\\\\n",
    "&4.\\, & \\mathbf{return} \\, \\mathbb{H}\n",
    "\\end{eqnarray}\n",
    "$$"
   ]
  },
  {
   "cell_type": "markdown",
   "metadata": {},
   "source": [
    "##### Loss function\n",
    "\n",
    "The loss function, `calculate_loss_function` is a simple sum over the table lookup values."
   ]
  },
  {
   "cell_type": "code",
   "execution_count": 5,
   "metadata": {
    "collapsed": true
   },
   "outputs": [],
   "source": [
    "def calculate_loss_function(segmentation, store, hash_table):\n",
    "    \"\"\"\n",
    "    Calculates the additive loss function.\n",
    "    Parameters:\n",
    "        segmentation (np.ndarray) : binary array representing a segmentation\n",
    "        store (np.ndarray) : array to store calculated hash keys\n",
    "        hash_table ({int:float}) : hash table encoding the pattern values\n",
    "    Returns:\n",
    "        loss (float) : the value of the loss function at segmentation\n",
    "    \"\"\"\n",
    "    \n",
    "    hash_keys = translate_segmentation(segmentation, store)\n",
    "    loss = sum(hash_table[k] for k in hash_keys)\n",
    "    \n",
    "    return loss"
   ]
  },
  {
   "cell_type": "markdown",
   "metadata": {
    "collapsed": true
   },
   "source": [
    "#### Translation\n",
    "\n",
    "The `translate_segmentation` function translates the binary string representation to a sequence of hash keys. This function is called at the evaluation of a segmentation in the loss function.\n",
    "\n",
    "The number of blocks is agian denoted by $N_{b}$. The standalone blocks have the first $N_{b}$ keys. The other pattern keys are sorted according to their length and position. The has keys therefore the integers in the 0, $$N_{b}$ \\cdot ($N_{b}$ + 1) / 2$ range.\n",
    "\n",
    "The function is compiled at first call. The hash function is inlined. Also, the array which would contain the sequence of hash keys is passed as a parameter, so that it need not be allocated at each call. These are done in order to speed up the routine."
   ]
  },
  {
   "cell_type": "code",
   "execution_count": 6,
   "metadata": {
    "collapsed": false
   },
   "outputs": [],
   "source": [
    "@numba.jit(nopython = True)\n",
    "def translate_segmentation(arr, store):\n",
    "    \"\"\"\n",
    "    Translates a binary string representation of a segmentation\n",
    "    to a list of hash keys.\n",
    "    Parameters:\n",
    "        arr (np.ndarray of 0 and 1): binary representation of a segmentation\n",
    "        store (np.ndarray) : storage for hash keys\n",
    "    Returns:\n",
    "        store (np.ndarray) : section of store updated with the new hash keys\n",
    "    \"\"\"\n",
    "    \n",
    "    is_free = True\n",
    "    length = 1\n",
    "    iseg = -1\n",
    "    arrlen = arr.size + 1\n",
    "    \n",
    "    for i, x in enumerate(arr):\n",
    "        \n",
    "        if x == 1:\n",
    "            if is_free:\n",
    "                pos = i\n",
    "                is_free = False\n",
    "            length += 1\n",
    "        else:\n",
    "            # end of subsequent ones\n",
    "            if length > 1:\n",
    "                hash_ = calculate_pattern_hash((pos, length), arrlen)\n",
    "                length = 1\n",
    "                is_free = True\n",
    "            \n",
    "            # add zeros\n",
    "            else:\n",
    "                hash_ = i\n",
    "                \n",
    "            iseg += 1\n",
    "            store[iseg] = hash_               \n",
    "    \n",
    "    # last element\n",
    "    if length > 1:\n",
    "        hash_ = calculate_pattern_hash((pos, length), arrlen) \n",
    "    else:\n",
    "        hash_ = i + 1\n",
    "        \n",
    "    iseg += 1\n",
    "    store[iseg] = hash_\n",
    "      \n",
    "    return store[:iseg + 1]"
   ]
  },
  {
   "cell_type": "markdown",
   "metadata": {},
   "source": [
    "#### Helper functions"
   ]
  },
  {
   "cell_type": "markdown",
   "metadata": {},
   "source": [
    "The `calculate_block_indices` function creates a list of indices which delimit the blocks. It is used in the `HashBrown` class."
   ]
  },
  {
   "cell_type": "code",
   "execution_count": 7,
   "metadata": {
    "collapsed": false
   },
   "outputs": [],
   "source": [
    "def calculate_block_indices(series, n_blocks):\n",
    "    \"\"\"\n",
    "    Calculates the left and rightmost indices of the blocks.\n",
    "    Parameters:\n",
    "        series (np.ndarray)\n",
    "        n_blocks : number of blocks\n",
    "    Returns:\n",
    "        block_indices (np.ndarray) : the delimiting indices of the blocks.\n",
    "    \"\"\"\n",
    "    \n",
    "    if n_blocks > series.shape[1]:\n",
    "        raise IndexError(\"Number of blocks exceeds length of array.\")\n",
    "\n",
    "    block_indices = [(idcs[0], idcs[-1]) for idcs in np.array_split(np.arange(series.shape[1]), n_blocks)]\n",
    "    block_indices = np.array(block_indices, dtype = np.int)\n",
    "\n",
    "    return block_indices"
   ]
  },
  {
   "cell_type": "markdown",
   "metadata": {},
   "source": [
    "### Implementation\n",
    "\n",
    "All these utilities are stored in the class `HashBrown`. It is avaialable as a `python` module [here]()."
   ]
  },
  {
   "cell_type": "code",
   "execution_count": 8,
   "metadata": {
    "collapsed": false
   },
   "outputs": [],
   "source": [
    "class HashBrown(object):\n",
    "    \"\"\"\n",
    "    Class to create a hash table for block merging time series.\n",
    "    \n",
    "    Attributes:\n",
    "        n_blocks (int) : number of blocks\n",
    "        series (np.ndarray) : the underlying timeseries\n",
    "        table ({:}) : hash table of the merge costs. \n",
    "    \n",
    "    Methods:\n",
    "        create_pattern_generator() : returns a generator object of the patterns. \n",
    "        Each element is tuple of position and length of the pattern in ascending order.\n",
    "        create_table() : creates a hash table using the merge cost and hash function \n",
    "    \"\"\"\n",
    "    \n",
    "    @property\n",
    "    def n_blocks(self):\n",
    "        return self._n_blocks\n",
    "   \n",
    "    @property\n",
    "    def series(self):\n",
    "        return self._series\n",
    "    \n",
    "    @property\n",
    "    def table(self):\n",
    "        return self._table\n",
    "    \n",
    "    def __init__(self, series, n_blocks, \n",
    "                    func, hfunc, \n",
    "                    func_args = [], func_kwargs = {},\n",
    "                    hfunc_args = [], hfunc_kwargs = {}):\n",
    "        \"\"\"\n",
    "        n_blocks (int) : number of blocks\n",
    "        func (callable) : cost of merging blocks to a pattern\n",
    "        func_args ([]) : arguments of func\n",
    "        func_kwargs({:}) : keyword arguments of func\n",
    " \n",
    "        hfunc (callable) : hash function\n",
    "        hfunc_args ([]) : arguments of hfunc\n",
    "        hfunc_kwargs({:}) : keyword arguments of hfunc  \n",
    "        \"\"\"\n",
    "        self._series = series\n",
    "        \n",
    "        self._n_blocks = n_blocks\n",
    "        self._string_length = self.n_blocks - 1\n",
    "        \n",
    "        # cost function\n",
    "        self._func = func\n",
    "        self._func_args = func_args\n",
    "        self._func_kwargs = func_kwargs\n",
    "   \n",
    "        # hash function\n",
    "        self._hfunc = hfunc\n",
    "        self._hfunc_args = hfunc_args\n",
    "        self._hfunc_kwargs = hfunc_kwargs\n",
    "        \n",
    "        # hash table\n",
    "        self._table = None\n",
    "\n",
    "    def create_pattern_generator(self):\n",
    "        \"\"\"\n",
    "        Creates a generator of patterns. The generator itself is a sequence\n",
    "        of (position, length) tuples.\n",
    "        Example: (0,1), (1,1), (2,1), ..., (0,2), (1,2), ...\n",
    "        \"\"\"\n",
    "        \n",
    "        pattern_generator = ((i_start, i_end + 1) for i_end in range(self._n_blocks) \n",
    "                                for i_start in range(self._n_blocks - i_end))\n",
    "        \n",
    "        return pattern_generator\n",
    "\n",
    "    def create_table(self):\n",
    "        \"\"\"\n",
    "        Creates a hash table of the merge costs of patterns.\n",
    "        The key is the integer hash of the pattern.\n",
    "        The value is the merge cost of that pattern.\n",
    "        \"\"\"\n",
    "         \n",
    "        # create iterator\n",
    "        patterns = self.create_pattern_generator()\n",
    "        \n",
    "        # populate table\n",
    "        table = {self._hfunc(pattern, *self._hfunc_args, **self._hfunc_kwargs) :\n",
    "                 self._func(pattern, self._series, *self._func_args, **self._func_kwargs)\n",
    "                     for pattern in patterns}\n",
    "        \n",
    "        self._table = table"
   ]
  },
  {
   "cell_type": "markdown",
   "metadata": {},
   "source": [
    "#### Loss function\n",
    "\n",
    "The loss function at a particular segmentation is calculated in two steps. The segmentation is translated to a sequence of hash keys. The values at these keys are looked up and summed."
   ]
  },
  {
   "cell_type": "code",
   "execution_count": 9,
   "metadata": {
    "collapsed": true
   },
   "outputs": [],
   "source": [
    "def calculate_loss_function(segmentation, store, hash_table):\n",
    "    \"\"\"\n",
    "    Calculates the additive loss function.\n",
    "    Parameters:\n",
    "        segmentation (np.ndarray) : binary array representing a segmentation\n",
    "        store (np.ndarray) : array to store calculated hash keys\n",
    "        hash_table ({int:float}) : hash table encoding the pattern values\n",
    "    Returns:\n",
    "        loss (float) : the value of the loss function at segmentation\n",
    "    \"\"\"\n",
    "    hash_keys = translate_segmentation(segmentation, store)\n",
    "    loss = sum(hash_table[k] for k in hash_keys)\n",
    "    \n",
    "    return loss"
   ]
  },
  {
   "cell_type": "markdown",
   "metadata": {},
   "source": [
    "## Is it worth the hassle?\n",
    "\n",
    "Let us assume we want find an optimal segmentation of series made of $N_{b} = 1000$ blocks. The number of patterns is proportional to $N^{2}$ with a prefactor of one half. Thefore one has to perform approximately 500,000 evaluations.\n",
    "\n",
    "If we are using a global optimiser, for instance evolutionary algorithms, an initial population of $N_{b} - N_{b}^{2}$ is required. Each individual consists of $N_{b}/2$ patterns on average. This equates to $N_{b}^{2} - N_{b}^{3}$ pattern evaluations or $N_{b} - N_{b}^{2}$ full segmentation evaluations just to create the initial population. If the overhead of populating the hash table is in this order, a speedup can be expected during the optimisation."
   ]
  },
  {
   "cell_type": "markdown",
   "metadata": {},
   "source": [
    "### Testing\n",
    "\n",
    "We mock up a timeseries of length 10,000, `F`."
   ]
  },
  {
   "cell_type": "code",
   "execution_count": 10,
   "metadata": {
    "collapsed": false
   },
   "outputs": [],
   "source": [
    "N = 10000\n",
    "F = np.zeros((2, N),dtype = np.int)\n",
    "F[0] = np.arange(N)\n",
    "F[1] = F[0] + np.random.normal(0, 1.0, N)"
   ]
  },
  {
   "cell_type": "markdown",
   "metadata": {},
   "source": [
    "#### Overhead\n",
    "\n",
    "First, we measure how much time is required by populating the hash table. This time is the overhead. The merge cost function, `colculate_pattern_cost` measures the correlation between the two components of the time series."
   ]
  },
  {
   "cell_type": "code",
   "execution_count": 11,
   "metadata": {
    "collapsed": true
   },
   "outputs": [],
   "source": [
    "def calculate_pattern_cost(pattern, F, block_indices):\n",
    "    \n",
    "    pos, length = pattern\n",
    "    \n",
    "    i_start = block_indices[pos, 0]\n",
    "    i_end = block_indices[pos + length - 1, 1]\n",
    "\n",
    "    cc = np.corrcoef(F[:,i_start:i_end], rowvar = True)[0,1]\n",
    "    cost = np.abs(cc)\n",
    "    \n",
    "    return cost"
   ]
  },
  {
   "cell_type": "code",
   "execution_count": 12,
   "metadata": {
    "collapsed": false
   },
   "outputs": [],
   "source": [
    "import sys\n",
    "sys.path.append(r'C:\\Users\\Balazs\\source\\repos\\slimTimer\\slimTimer')\n",
    "from SlimTimer import SlimTimer"
   ]
  },
  {
   "cell_type": "markdown",
   "metadata": {},
   "source": [
    "The number of blocks ranges between 10 and 1,000. Five repeated measurements are carried out at each value."
   ]
  },
  {
   "cell_type": "code",
   "execution_count": 13,
   "metadata": {
    "collapsed": true
   },
   "outputs": [],
   "source": [
    "block_sizes = [10, 100, 200, 500, 1000]"
   ]
  },
  {
   "cell_type": "code",
   "execution_count": 14,
   "metadata": {
    "collapsed": false
   },
   "outputs": [],
   "source": [
    "times= []\n",
    "\n",
    "for n_blocks in block_sizes:\n",
    "      \n",
    "    # get block delimiters\n",
    "    block_indices = calculate_block_indices(F, n_blocks)\n",
    "    \n",
    "    # initialse hash table object\n",
    "    hs = HashBrown(F, n_blocks,  \n",
    "                    calculate_pattern_cost, calculate_pattern_hash,\n",
    "                    func_args = [block_indices], hfunc_args = [n_blocks])\n",
    "    \n",
    "    # create new timer and add function to be timed\n",
    "    timer = SlimTimer(func = hs.create_table, n_runs = 5)\n",
    "    \n",
    "    # populate hash table <-- this is the expensive step\n",
    "    timer.measure()\n",
    "    times.append(timer.to_dict())\n",
    "    \n",
    "overhead = np.array([(x, y['tmean'], y['tstdev']) for x, y in zip(block_sizes, times)])"
   ]
  },
  {
   "cell_type": "markdown",
   "metadata": {},
   "source": [
    "The time required to fill in the hash table quadratically increases with the number of blocks as expected."
   ]
  },
  {
   "cell_type": "code",
   "execution_count": 15,
   "metadata": {
    "collapsed": false
   },
   "outputs": [
    {
     "data": {
      "image/png": "[encoded data removed]",
      "text/plain": [
       "<matplotlib.figure.Figure at 0x17f7d873710>"
      ]
     },
     "metadata": {},
     "output_type": "display_data"
    }
   ],
   "source": [
    "# TO HIDE\n",
    "\n",
    "fig, ax = plt.subplots(1,1)\n",
    "fig.set_size_inches(8,6)\n",
    "\n",
    "ax.errorbar(overhead[:, 0], overhead[:, 1], yerr = overhead[:,2],\n",
    "           color='green', marker='.', linestyle='dashed')\n",
    "ax.grid(True)\n",
    "ax.set_xlabel(r'$N_{b}$')\n",
    "ax.set_ylabel(r'$\\overline{t}_{N_{b}}$')\n",
    "ax.set_xlim(0,1002)\n",
    "plt.show()"
   ]
  },
  {
   "cell_type": "markdown",
   "metadata": {},
   "source": [
    "#### Function evaluation\n",
    "\n",
    "The speed of hashed and ordinary function evaluations are compared. To this end, we need to create a function that calculates the loss function of a segmentation without using the hash table. It comprises the following elements\n",
    "\n",
    "1. Translate segmentation to list of hashes $\\rightarrow$ `translate_segmentation`\n",
    "1. Translate hash to (position, length) tuple $\\rightarrow$ `hash_to_poslen`\n",
    "1. Calculate the loss for each pattern $\\rightarrow$ `calculate_pattern_cost`\n",
    "1. Sum up the partial losses\n",
    "\n",
    "The hash $\\rightarrow$ tuple converter is easily built:"
   ]
  },
  {
   "cell_type": "code",
   "execution_count": 16,
   "metadata": {
    "collapsed": false
   },
   "outputs": [],
   "source": [
    "hash_to_poslen_ = dict(enumerate(hs.create_pattern_generator()))"
   ]
  },
  {
   "cell_type": "markdown",
   "metadata": {},
   "source": [
    "Then it is glued together with the other components in the function ` calculate_loss_function_np`."
   ]
  },
  {
   "cell_type": "code",
   "execution_count": 17,
   "metadata": {
    "collapsed": true
   },
   "outputs": [],
   "source": [
    "def  calculate_loss_function_np(segmentation, store, series, block_indices, hash_to_poslen):\n",
    "    \n",
    "    hash_keys = translate_segmentation(segmentation, store)\n",
    "    gen_poslen = (hash_to_poslen[hash_] for hash_ in hash_keys)\n",
    "    \n",
    "    losses = (calculate_pattern_cost(pattern, series, block_indices) for pattern in gen_poslen)\n",
    "    loss = sum(losses)\n",
    "    \n",
    "    return loss"
   ]
  },
  {
   "cell_type": "markdown",
   "metadata": {},
   "source": [
    "We compare the runtimes of the _hashed_ native _numpy_ algorithms for a selection of segmentations. The overhead is added to each hashed times."
   ]
  },
  {
   "cell_type": "code",
   "execution_count": 18,
   "metadata": {
    "collapsed": true
   },
   "outputs": [],
   "source": [
    "n_segmentations = [100, 500, 1000, 5000, 10000]"
   ]
  },
  {
   "cell_type": "code",
   "execution_count": 21,
   "metadata": {
    "collapsed": false
   },
   "outputs": [],
   "source": [
    "times_eval_hash, times_eval_np = [], [] # storage for evaluation times \n",
    "\n",
    "for n_blocks in block_sizes:\n",
    "\n",
    "    # create new hash table\n",
    "    block_indices = calculate_block_indices(F, n_blocks)\n",
    "    hs = HashBrown(F, n_blocks, calculate_pattern_cost, calculate_pattern_hash,\n",
    "                    func_args = [block_indices], hfunc_args = [n_blocks])\n",
    "\n",
    "    hs.create_table()\n",
    "    hash_table = hs.table\n",
    "    hash_to_poslen = dict(enumerate(hs.create_pattern_generator()))\n",
    "    \n",
    "    store = np.zeros(n_blocks, dtype = np.int)\n",
    "    \n",
    "    # measurement on population\n",
    "    for n_segmentation in n_segmentations:\n",
    "        \n",
    "        # create a segmentation <-- do not count time needed to generate this\n",
    "        population = np.random.binomial(1, p = 0.9, size = (n_segmentation, n_blocks - 1))\n",
    "    \n",
    "        # 1) evalutating segmentation using hash table\n",
    "        # (this is an extremely dirty way to evaluate a function repeatedly on a sequence of arguments)\n",
    "        gen_ = (calculate_loss_function(segmentation, store, hash_table) for segmentation in population)\n",
    "        func_ = lambda : sum(gen_)\n",
    "        \n",
    "        tmr = SlimTimer(func = func_, n_runs = 1)\n",
    "        tmr.measure()\n",
    "        times_eval_hash.append((n_blocks, n_segmentation, tmr.tmean))\n",
    "        \n",
    "        # 2) evalutating segmentation using numpy functions\n",
    "        gen_ = (calculate_loss_function_np(segmentation, store, F, block_indices, hash_to_poslen) \n",
    "                for segmentation in population)\n",
    "        func_ = lambda : sum(gen_)\n",
    "        \n",
    "        tmr = SlimTimer(func = func_, n_runs = 1)\n",
    "        tmr.measure()\n",
    "        times_eval_np.append((n_blocks, n_segmentation, tmr.tmean))\n",
    "\n",
    "teh = np.array(times_eval_hash)\n",
    "ten = np.array(times_eval_np)"
   ]
  },
  {
   "cell_type": "markdown",
   "metadata": {},
   "source": [
    "The hashed evaluation is much faster than the native `numpy` one even when the overhead is included in the runtimes. The only exception happens where a small number of long strings are evaluated."
   ]
  },
  {
   "cell_type": "code",
   "execution_count": 22,
   "metadata": {
    "collapsed": false
   },
   "outputs": [
    {
     "data": {
      "image/png": "[encoded data removed]",
      "text/plain": [
       "<matplotlib.figure.Figure at 0x17f0a3794e0>"
      ]
     },
     "metadata": {},
     "output_type": "display_data"
    }
   ],
   "source": [
    "# TO HIDE\n",
    "\n",
    "fig, axes = plt.subplots(3,2, sharex = True, sharey = True,\n",
    "                         gridspec_kw = {'hspace' : 0.05, 'wspace' : 0.05})\n",
    "fig.set_size_inches(10,12)\n",
    "\n",
    "for idx, (ax, n_blocks) in enumerate(zip(axes.flat, block_sizes)):\n",
    "    i_start = idx * len(block_sizes)\n",
    "    i_end = (idx + 1) * len(block_sizes)\n",
    "\n",
    "    ax.grid(True)\n",
    "    ax.set_yscale('log')\n",
    "\n",
    "    ax.plot(teh[i_start:i_end, 1], teh[i_start:i_end, 2], \n",
    "            marker = 'o', c = 'green', label = 'hashed', linestyle = '--')\n",
    "\n",
    "    ax.plot(teh[i_start:i_end, 1], teh[i_start:i_end, 2] + overhead[idx,2] , \n",
    "            marker = 'o', c = 'blue', label = 'hashed + overhead')\n",
    "    \n",
    "    ax.plot(ten[i_start:i_end, 1], ten[i_start:i_end, 2], \n",
    "            marker = 'o', c = 'orange', label = 'numpy')\n",
    "    \n",
    "    ax.text(0.1, 0.9, str(n_blocks),\n",
    "        verticalalignment = 'bottom', horizontalalignment = 'center',\n",
    "        transform = ax.transAxes)\n",
    "    \n",
    "    ax.legend()\n",
    "axes[2,0].set_xlabel('Number of segmentations')\n",
    "axes[1,1].set_xlabel('Number of segmentations')\n",
    "axes[0,0].set_ylabel(r'$t$ / s')\n",
    "axes[1,0].set_ylabel(r'$t$ / s')\n",
    "axes[2,0].set_ylabel(r'$t$ / s')\n",
    "axes[-1,-1].axis('off')\n",
    "plt.show()"
   ]
  },
  {
   "cell_type": "markdown",
   "metadata": {},
   "source": [
    "## Final remarks\n",
    "\n",
    "Hashing the loss function speeds up its evaluation with orders of magnitude. The computational bottleneck moves in to the creation of the hash table. A possible solution might be populating the hash table on-the-fly, rather than beforehand the optimisation."
   ]
  }
 ],
 "metadata": {
  "kernelspec": {
   "display_name": "Python 3",
   "language": "python",
   "name": "python3"
  },
  "language_info": {
   "codemirror_mode": {
    "name": "ipython",
    "version": 3
   },
   "file_extension": ".py",
   "mimetype": "text/x-python",
   "name": "python",
   "nbconvert_exporter": "python",
   "pygments_lexer": "ipython3",
   "version": "3.6.0"
  }
 },
 "nbformat": 4,
 "nbformat_minor": 2
}
