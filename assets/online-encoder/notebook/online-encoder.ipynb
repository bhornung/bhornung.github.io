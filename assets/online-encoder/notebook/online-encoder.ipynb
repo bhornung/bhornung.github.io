{
 "cells": [
  {
   "cell_type": "markdown",
   "metadata": {},
   "source": [
    "A handful of online encoders are constructed and compared in this post.\n",
    "\n",
    "## Motivation\n",
    "\n",
    "I have to encode a large number of strings with integers. The strings are not known in advance for they are coming from a generator. The generator itself takes a list of strings and sanitises them e.g. removes trailing whitespaces.\n",
    "\n",
    "I try to use generators as much as I can in order to save memory (We are concerned with strings in the order of millions.)\n",
    "\n",
    "Unfortunately, the encoder utility `LabelEncoder` of `sklearn` has to know all strings in advance. It therefore cannot be used as an online encoder. "
   ]
  },
  {
   "cell_type": "markdown",
   "metadata": {},
   "source": [
    "## Random string sequences\n",
    "\n",
    "We need source of random strings sequences to test the future encoders. Below we write a generator object (or factory), `random_string_sequence_generator_factory` that that yields random string generators. This function can be viewed as an infinite resource of sequence generators. It is really similar to our Markov chain generator [MarkovSequenceGenerator](https://bhornung.github.io/python/2018/09/02/cryptocurrency-names.html)."
   ]
  },
  {
   "cell_type": "code",
   "execution_count": 1,
   "metadata": {},
   "outputs": [],
   "source": [
    "import random\n",
    "import string\n",
    "\n",
    "def random_string_sequence_generator_factory(character_pool,\n",
    "                                             string_length = 1,\n",
    "                                             sequence_length = 10):\n",
    "    \"\"\"\n",
    "    Creates a generator or fixed length random string sequences. \n",
    "    Please note, this is a generator object that yields a sequence generator.\n",
    "    \n",
    "    Parameters:\n",
    "        character_pool (str) : alphabet\n",
    "        string_length (int) : length of the random strings\n",
    "        sequence_length (int) length of the sequence containing random strings\n",
    "        \n",
    "    Yields:\n",
    "        new_generator (generator) : generator of string sequences.\n",
    "    \"\"\"\n",
    "    \n",
    "    # creates a sequence of random strings\n",
    "    def sequence_generator(character_pool_, string_length_, sequence_length_):\n",
    "        \"\"\"\n",
    "        Creates a random sequence generator.\n",
    "        \n",
    "        We deefine local arguments, to avoid infiltration from outer namespaces.\n",
    "        In jupyter, it can be a very likely scenario.\n",
    "        \n",
    "        Parameters:\n",
    "            character_pool_ (str) : alphabet\n",
    "            string_length_ (int) : lenght of the string\n",
    "            sequence_length_ (int) : length of the sequnce\n",
    "        Returns:\n",
    "            sequence (generator) : generator of random string sequence\n",
    "        \"\"\"\n",
    "        \n",
    "        sequence = (''.join(random.choices(character_pool_, k = string_length_))\n",
    "                        for idx in range(sequence_length_))\n",
    "    \n",
    "        return sequence\n",
    "    \n",
    "    # create an infinite resource of generators\n",
    "    while True:\n",
    "        new_generator = sequence_generator(character_pool, string_length, sequence_length)\n",
    "        \n",
    "        yield new_generator"
   ]
  },
  {
   "cell_type": "markdown",
   "metadata": {},
   "source": [
    "A generator is created which produces generators of eleven element long sequences of two character random strings."
   ]
  },
  {
   "cell_type": "code",
   "execution_count": 2,
   "metadata": {},
   "outputs": [],
   "source": [
    "random_sequence_generator = \\\n",
    "    random_string_sequence_generator_factory('abcdefghijklmnopqrstyuvwxyz',\n",
    "                                             string_length = 2, \n",
    "                                             sequence_length = 11)"
   ]
  },
  {
   "cell_type": "markdown",
   "metadata": {},
   "source": [
    "Let us consume the first element:"
   ]
  },
  {
   "cell_type": "code",
   "execution_count": 3,
   "metadata": {},
   "outputs": [
    {
     "name": "stdout",
     "output_type": "stream",
     "text": [
      "<generator object random_string_sequence_generator_factory.<locals>.sequence_generator.<locals>.<genexpr> at 0x0000027D66FC1BA0>\n"
     ]
    }
   ],
   "source": [
    "seq_gen1 = next(random_sequence_generator)\n",
    "print(seq_gen1)"
   ]
  },
  {
   "cell_type": "markdown",
   "metadata": {},
   "source": [
    "As we expected a generator object is returned. Now we spend the generator:"
   ]
  },
  {
   "cell_type": "code",
   "execution_count": 4,
   "metadata": {},
   "outputs": [
    {
     "name": "stdout",
     "output_type": "stream",
     "text": [
      "ua, fq, wf, uz, cj, yd, ao, qn, xp, ai, vx\n"
     ]
    }
   ],
   "source": [
    "print(\", \".join(seq_gen1))"
   ]
  },
  {
   "cell_type": "markdown",
   "metadata": {},
   "source": [
    "Consume more sequences:"
   ]
  },
  {
   "cell_type": "code",
   "execution_count": 5,
   "metadata": {},
   "outputs": [
    {
     "name": "stdout",
     "output_type": "stream",
     "text": [
      "Seq no.: 0. Sequence: ['ir', 'va', 'nk', 'wk', 'pq', 'wy', 'xq', 'yq', 'rp', 'fc', 'yz']\n",
      "Seq no.: 1. Sequence: ['mu', 'rr', 'uf', 'nk', 'lz', 'yc', 'jr', 'jk', 'va', 'iy', 'ae']\n",
      "Seq no.: 2. Sequence: ['xx', 'vw', 'bb', 'ia', 'ms', 'iz', 'yw', 'yu', 'cl', 'qh', 'ph']\n",
      "Seq no.: 3. Sequence: ['we', 'bc', 'wp', 'dg', 'up', 'fw', 'nu', 'pi', 'bk', 'rj', 'wb']\n",
      "Seq no.: 4. Sequence: ['ey', 'im', 'vc', 'yg', 'bi', 'lo', 'cw', 'jl', 'yn', 'nw', 'ys']\n",
      "Seq no.: 5. Sequence: ['zh', 'rj', 'jd', 'nn', 'iz', 'fj', 'kv', 'zm', 'sw', 'vg', 'fp']\n",
      "Seq no.: 6. Sequence: ['mh', 'qa', 'qy', 'yt', 'ph', 've', 'fg', 'oy', 'ib', 'tb', 'mw']\n"
     ]
    }
   ],
   "source": [
    "for idx in range(7):\n",
    "    seq_gen = next(random_sequence_generator)\n",
    "    print(\"Seq no.: {0}. Sequence: {1}\".format(idx, list(seq_gen)))"
   ]
  },
  {
   "cell_type": "markdown",
   "metadata": {},
   "source": [
    "## Encoders\n",
    "\n",
    "An encoder takes and object and assigns a unique value to it. It also needs to be consistent. A certain object always associated with the same value.\n",
    "\n",
    "* initialise lookup table\n",
    "* obtain object\n",
    "* look for object in lookup table\n",
    "* if present \n",
    "    * return associated value\n",
    "* if not\n",
    "    * create new value\n",
    "    * save (object, value) pair in lookup table\n",
    "    * return value\n",
    "\n",
    "It is clear that an encoder has an associated memory and functions that interact with this memory.\n",
    "\n",
    "The functions operating on the memory:\n",
    "* lookup function\n",
    "* saves pair\n",
    "\n",
    "We also need a function that can generate unique values. This function has to be aware of the used values and has to implement a rule that generates a new value based on the used ones. The used values can either be exrtacted from the memory (lookup table) or stored in a different memory.\n",
    "\n",
    "The encoder thus can be defined as a tuple of the following components\n",
    "\n",
    "* lookup table\n",
    "* lookup function\n",
    "* function to generate new value\n",
    "* function to push (object, value) pair to lookup table\n",
    "* and at last, function to return value\n",
    "\n",
    "### List encoder\n",
    "\n",
    "The first implementation, `_encoder_1` based on the tuple model. We use a list to store the components of the encoder, for tuple are immutable in python."
   ]
  },
  {
   "cell_type": "code",
   "execution_count": 6,
   "metadata": {},
   "outputs": [],
   "source": [
    "from itertools import count\n",
    "\n",
    "_encoder_1_ = [\n",
    "              {}, \n",
    "              count(),\n",
    "              lambda x: encoder[0].update({x : next(encoder[1])}),\n",
    "              lambda x: (encoder[2](x), encoder[0][x])[1] \n",
    "                            if x not in encoder[0] else encoder[0][x] \n",
    "             ]"
   ]
  },
  {
   "cell_type": "markdown",
   "metadata": {},
   "source": [
    "1. `{}`: the first element of the list is the lookup table, a simple dictionary.\n",
    "\n",
    "\n",
    "2. `count()`: the second element,  has dual functions.\n",
    "\n",
    "    * It serves as a memory to store the used values\n",
    "    * It can provide new values whenever its `next` method is called\n",
    "\n",
    "\n",
    "3. `encoder[0].update({x : next(encoder[1])})`: the third element  does the following\n",
    "\n",
    "    * `next(encoder[1])`: creates a new value\n",
    "    * stores the used values (`count` cannot go backwards)\n",
    "    * `encoder[0].update({... : ...})`: puhes the (object, value) to the lookup table\n",
    "\n",
    "\n",
    "4. The fourth element comprises of a manifold steps:\n",
    "    * it decides whether the object is in the lookup table\n",
    "    * `else`: if so, \n",
    "        *       `encoder[0][x]`: returns the corresponding value `.... else encoder[0][x]`    \n",
    "    * `if x not in encoder[0]` if not, \n",
    "        *       `encoder[2](x)`: creates a new (object, value) pair\n",
    "        *       saves the new pair\n",
    "        *       `encoder[0][x]`: retrieves the value from the lookup memory\n",
    "        *       `(..., ...)[1]`: pushes the value to the user"
   ]
  },
  {
   "cell_type": "markdown",
   "metadata": {},
   "source": [
    "We would like to make this encoder to be reusable hence it is wrapped in a factory function, `create_encoder_1`"
   ]
  },
  {
   "cell_type": "code",
   "execution_count": 7,
   "metadata": {},
   "outputs": [],
   "source": [
    "def create_encoder_1():\n",
    "    _encoder = [\n",
    "                {}, \n",
    "                count(),\n",
    "                lambda x: _encoder[0].update({x : next(_encoder[1])}),\n",
    "                lambda x: (_encoder[2](x), _encoder[0][x])[1] \n",
    "                              if x not in _encoder[0] else _encoder[0][x] \n",
    "               ]\n",
    "    \n",
    "    encoder = lambda x: _encoder[3](x)\n",
    "    \n",
    "    return encoder"
   ]
  },
  {
   "cell_type": "markdown",
   "metadata": {},
   "source": [
    "For testing purposes one character long strings are used so that we can see whether the encoding is consistent."
   ]
  },
  {
   "cell_type": "code",
   "execution_count": 8,
   "metadata": {},
   "outputs": [],
   "source": [
    "random_sequence_generator_1_10 = \\\n",
    "    random_string_sequence_generator_factory('abcdef',\n",
    "                                              string_length = 1,\n",
    "                                              sequence_length = 10)"
   ]
  },
  {
   "cell_type": "markdown",
   "metadata": {},
   "source": [
    "Let us test our encoder:"
   ]
  },
  {
   "cell_type": "code",
   "execution_count": 9,
   "metadata": {},
   "outputs": [
    {
     "name": "stdout",
     "output_type": "stream",
     "text": [
      "[('b', 0), ('e', 1), ('b', 0), ('c', 2), ('b', 0), ('b', 0), ('b', 0), ('b', 0), ('b', 0), ('e', 1)]\n"
     ]
    }
   ],
   "source": [
    "encoder_1 = create_encoder_1()\n",
    "print([(string, encoder_1(string)) \n",
    "           for string in next(random_sequence_generator_1_10)])"
   ]
  },
  {
   "cell_type": "markdown",
   "metadata": {},
   "source": [
    "As we can see the encoding is both unique and consistent. Decoding requires access to the lookup table, which is now hidden because of the convenience $\\lambda$-wrapper."
   ]
  },
  {
   "cell_type": "markdown",
   "metadata": {},
   "source": [
    "### Function decorator\n",
    "\n",
    "From a practical point of view, an encoder is a function with an associated memory. If we can associate a storage with a lookup function, we can build an encoder. A convenient tool is a decorator. The `associate_lookup` decorator locks the lookup and used value memories to a function. The function itself `encoder_2` is a dummy. Its only role is to provide acces to the memory. A factory is also created for this encoder."
   ]
  },
  {
   "cell_type": "code",
   "execution_count": 10,
   "metadata": {},
   "outputs": [],
   "source": [
    "def associate_lookup(func):\n",
    "    store = [-1, {}]                         # value, lookup\n",
    "    \n",
    "    def lookup_(x):   \n",
    "        if not x in store[1]:\n",
    "            store[0] += 1                    # generate unique values\n",
    "            store[1].update({x : store[0]})  # push new relation to lookup\n",
    "            \n",
    "        return store[1][x]                   # push value to user\n",
    "    \n",
    "    return lookup_\n",
    "\n",
    "def create_encoder_2():\n",
    "    \"\"\"\n",
    "    Factory for encoder_2.\n",
    "    \"\"\"\n",
    "    @associate_lookup\n",
    "    def encoder(x):\n",
    "        pass\n",
    "    \n",
    "    return encoder"
   ]
  },
  {
   "cell_type": "markdown",
   "metadata": {},
   "source": [
    "We test it on a random one letter sequence:"
   ]
  },
  {
   "cell_type": "code",
   "execution_count": 11,
   "metadata": {},
   "outputs": [
    {
     "name": "stdout",
     "output_type": "stream",
     "text": [
      "[('f', 0), ('a', 1), ('d', 2), ('a', 1), ('f', 0), ('f', 0), ('e', 3), ('f', 0), ('b', 4), ('c', 5)]\n"
     ]
    }
   ],
   "source": [
    "encoder_2 = create_encoder_2()\n",
    "print([(string, encoder_2(string)) \n",
    "           for string in next(random_sequence_generator_1_10)])"
   ]
  },
  {
   "cell_type": "markdown",
   "metadata": {},
   "source": [
    "Again, it is unique and consistent. This implementation has a major drawback: the lookup table cannot be accessed, thus the encoded values cannot be decoded. A possible, and rather ugly, solution is to add a decoding table to store. The new function would also require a second argument that specifies which lookup table should be used. This function will not be implemented, for it would only deliver a very modest degree of joy and aesthetic satisfaction."
   ]
  },
  {
   "cell_type": "markdown",
   "metadata": {},
   "source": [
    "### Function attributes and decorator\n",
    "\n",
    "Functions can have user defined attributes. The `associate_explicit_lookup` decorator explicitly bounds the `idx` and `lookup` fields to a function. Both of them are visible to the user."
   ]
  },
  {
   "cell_type": "code",
   "execution_count": 12,
   "metadata": {},
   "outputs": [],
   "source": [
    "def associate_explicit_lookup(func):\n",
    "    \n",
    "    func.lookup = {}\n",
    "    func.idx = -1\n",
    "    \n",
    "    return func\n",
    "    \n",
    "def create_encoder_3():\n",
    "    \n",
    "    @associate_explicit_lookup\n",
    "    def encoder(x):\n",
    "        \n",
    "        if not x in encoder.lookup:\n",
    "            encoder.idx += 1\n",
    "            encoder.lookup.update({x : encoder.idx})\n",
    "            \n",
    "        return encoder.lookup[x]\n",
    "    \n",
    "    return encoder"
   ]
  },
  {
   "cell_type": "markdown",
   "metadata": {},
   "source": [
    "A test confirms below that the encoder works correctly (well, as far as being unique and consistent goes on a small sample)."
   ]
  },
  {
   "cell_type": "code",
   "execution_count": 13,
   "metadata": {},
   "outputs": [
    {
     "name": "stdout",
     "output_type": "stream",
     "text": [
      "[('f', 0), ('b', 1), ('e', 2), ('c', 3), ('d', 4), ('a', 5), ('e', 2), ('a', 5), ('b', 1), ('c', 3)]\n"
     ]
    }
   ],
   "source": [
    "encoder_3 = create_encoder_3()\n",
    "print([(string, encoder_3(string)) \n",
    "           for string in next(random_sequence_generator_1_10)])"
   ]
  },
  {
   "cell_type": "markdown",
   "metadata": {},
   "source": [
    "The memory of the function is readily accessible"
   ]
  },
  {
   "cell_type": "code",
   "execution_count": 14,
   "metadata": {},
   "outputs": [
    {
     "name": "stdout",
     "output_type": "stream",
     "text": [
      "Lookup table: {'f': 0, 'b': 1, 'e': 2, 'c': 3, 'd': 4, 'a': 5}\n",
      "Number of keys: 5\n"
     ]
    }
   ],
   "source": [
    "print(\"Lookup table: {0}\".format(encoder_3.lookup))\n",
    "print(\"Number of keys: {0}\".format(encoder_3.idx))"
   ]
  },
  {
   "cell_type": "markdown",
   "metadata": {},
   "source": [
    "### Encoder class\n",
    "\n",
    "A classy solution is to bundle the various components of the encoder in form of named fields. A third approach is that of the object oriented programming. (We have been creating object in the previous two implementations too, but in an implicit way.) \n",
    "\n",
    "Writing classes has many additional advantages, e.g. maintainable code, adding functionalities, easy manipulation of the underlying fields. The `Encoder` class below implements the encode and decode methods."
   ]
  },
  {
   "cell_type": "code",
   "execution_count": 15,
   "metadata": {},
   "outputs": [],
   "source": [
    "class Encoder:\n",
    "    \"\"\"\n",
    "    Lightweight encoder -- decoder class.\n",
    "    \n",
    "    Methods:\n",
    "        encode(x) : returns the code of x\n",
    "        decode(x) : returns the value that is encoded by x\n",
    "        reset() : clears memory\n",
    "    \"\"\"\n",
    "    \n",
    "    def __init__(self):\n",
    "        \n",
    "        self._idx = -1\n",
    "        self._encode_map = {}\n",
    "        self._decode_map = {}\n",
    "        \n",
    "    def encode(self, x):\n",
    "        \"\"\"\n",
    "        Encodes a hashable object with an integer.\n",
    "        Parameters:\n",
    "            x (object) : value to encode\n",
    "            \n",
    "        Returns:\n",
    "            (int) code of x\n",
    "        \"\"\"\n",
    "        \n",
    "        if not x in self._encode_map:\n",
    "            self._idx += 1\n",
    "            \n",
    "            self._encode_map.update({x : self._idx})\n",
    "            self._decode_map.update({self._idx : x})\n",
    "            \n",
    "        return self._encode_map[x]\n",
    "    \n",
    "    def decode(self, x):\n",
    "        \"\"\"\n",
    "        Dencodes a hashable object with an integer.\n",
    "        Parameters:\n",
    "            x (int) : value to encode\n",
    "            \n",
    "        Returns:\n",
    "            the value that is encoded by x\n",
    "        \"\"\"\n",
    "        return self._decode_map[x]\n",
    "    \n",
    "    def reset(self):\n",
    "        \"\"\"\n",
    "        Clears lookup tables.\n",
    "        \"\"\"\n",
    "        \n",
    "        self._idx = -1\n",
    "        self._encode_map = {}\n",
    "        self._decode_map = {}"
   ]
  },
  {
   "cell_type": "code",
   "execution_count": 16,
   "metadata": {},
   "outputs": [
    {
     "name": "stdout",
     "output_type": "stream",
     "text": [
      "Encode:\n",
      "[('e', 0), ('a', 1), ('a', 1), ('d', 2), ('a', 1), ('a', 1), ('a', 1), ('f', 3), ('d', 2), ('f', 3)]\n",
      "\n",
      "Encode -- decode:\n",
      "[('f', 'f'), ('a', 'a'), ('f', 'f'), ('e', 'e'), ('a', 'a'), ('f', 'f'), ('c', 'c'), ('e', 'e'), ('f', 'f'), ('c', 'c')]\n"
     ]
    }
   ],
   "source": [
    "encoder_4 = Encoder()\n",
    "\n",
    "# encode\n",
    "print(\"Encode:\")\n",
    "print([(string, encoder_4.encode(string)) \n",
    "           for string in next(random_sequence_generator_1_10)])\n",
    "\n",
    "# encode and decode\n",
    "print(\"\\nEncode -- decode:\")\n",
    "print([(string, encoder_4.decode(encoder_4.encode(string))) \n",
    "           for string in next(random_sequence_generator_1_10)])"
   ]
  },
  {
   "cell_type": "markdown",
   "metadata": {},
   "source": [
    "## Comparison\n",
    "\n",
    "The performance of the four encoders are compared below. We could have used the [`SimTimer` class](https://github.com/bhornung/SlimTimer/blob/master/slimTimer/slimTimer.py), which also had given opportunities to write more decorators and generators. However, I doubt anyone would debate how refreshing scribbling a few for loops can be.\n",
    "\n",
    "The string length is eight. The sequence lengths are 100, 1000, 10000, 100000, 1000000. Each size contains five different sequences. \n",
    "\n",
    "We do not want to contaminate our mesurements with the time that is needed to generate the random strings, thus they are saved in memory in the 2D list called `test_sequences` in advance."
   ]
  },
  {
   "cell_type": "code",
   "execution_count": 17,
   "metadata": {},
   "outputs": [],
   "source": [
    "test_sequences = []\n",
    "for sequence_length in (100, 1000, 10000, 100000, 1000000):\n",
    "    rsg = random_string_sequence_generator_factory('abcdefghijklmnopqrtstyuvwxyz',\n",
    "                                              string_length = 8,\n",
    "                                              sequence_length = sequence_length)\n",
    "\n",
    "    test_sequences.extend([list(next(rsg)) for idx in range(10)])"
   ]
  },
  {
   "cell_type": "markdown",
   "metadata": {},
   "source": [
    "We then collate the encoders with their names in the `encoder_factories` tuple. The second element of the tuple creates a callable encoder."
   ]
  },
  {
   "cell_type": "code",
   "execution_count": 18,
   "metadata": {},
   "outputs": [],
   "source": [
    "encoder_factories = (\n",
    "                     ('encoder_1', create_encoder_1),\n",
    "                     ('encoder_2', create_encoder_2),\n",
    "                     ('encoder_3', create_encoder_3),\n",
    "                     ('encoder_4', lambda: Encoder().encode) # mild lambda abuse\n",
    "                    )"
   ]
  },
  {
   "cell_type": "markdown",
   "metadata": {},
   "source": [
    "The `perf_counter` function of of the `time` module will mesaure the execution time. The variables are collected in the `results` list of tuples."
   ]
  },
  {
   "cell_type": "code",
   "execution_count": 20,
   "metadata": {},
   "outputs": [],
   "source": [
    "import time\n",
    "\n",
    "# store execution times\n",
    "results = []\n",
    "\n",
    "# loop over arrays\n",
    "for seq in test_sequences:\n",
    "    \n",
    "    # loop over encoders\n",
    "    for name, factory in encoder_factories:\n",
    "        # create decoder\n",
    "        encoder = factory()\n",
    "        # measure execution time\n",
    "        tstart = time.perf_counter()\n",
    "        \n",
    "        _ = [encoder(x) for x in seq]\n",
    "            \n",
    "        tend = time.perf_counter() \n",
    "        tdelta = tend - tstart\n",
    "        \n",
    "        results.append((name, len(seq), tdelta))"
   ]
  },
  {
   "cell_type": "markdown",
   "metadata": {},
   "source": [
    "The results are easily processed by a few pandas operations. Alternatively, one can use `seaborn`."
   ]
  },
  {
   "cell_type": "code",
   "execution_count": 21,
   "metadata": {},
   "outputs": [],
   "source": [
    "import pandas as pd\n",
    "\n",
    "results_df = pd.DataFrame(results, columns = ['type', 'size', 'time'])\n",
    "stats_df = results_df.groupby(['type', 'size']).describe()['time'][['mean', 'std']]\n",
    "stat_groups_df = stats_df.groupby(level = 0)"
   ]
  },
  {
   "cell_type": "markdown",
   "metadata": {},
   "source": [
    "The mean execution times are then plotted against the sequence size along with the standard deviation. (The deviations are barely visible.)"
   ]
  },
  {
   "cell_type": "code",
   "execution_count": 23,
   "metadata": {},
   "outputs": [
    {
     "data": {
      "image/png": "[encoded data removed]",
      "text/plain": [
       "<Figure size 360x360 with 1 Axes>"
      ]
     },
     "metadata": {
      "needs_background": "light"
     },
     "output_type": "display_data"
    }
   ],
   "source": [
    "import matplotlib.pyplot as plt\n",
    "\n",
    "fig, ax = plt.subplots(1, 1)\n",
    "fig.set_size_inches(5, 5)\n",
    "\n",
    "ax.set_xscale('log'); ax.set_yscale('log')\n",
    "ax.set_xlabel('sequence length'); ax.set_ylabel(r'$t$ / s')\n",
    "ax.grid(True)\n",
    "\n",
    "for name, data in stat_groups_df:\n",
    "    x = data.index.get_level_values(1)\n",
    "    ax.errorbar(x, data['mean'], yerr = data['std'], \n",
    "                fmt = '--o',  label = name)\n",
    "    \n",
    "    ax.legend()\n",
    "plt.show()"
   ]
  },
  {
   "cell_type": "markdown",
   "metadata": {},
   "source": [
    "There is not a tremendous difference between the various encoders. The class and tuple implementations are approximately 20% slower than the ones using decorators. The choice of method therefore the class implementation."
   ]
  }
 ],
 "metadata": {
  "kernelspec": {
   "display_name": "Python 3",
   "language": "python",
   "name": "python3"
  },
  "language_info": {
   "codemirror_mode": {
    "name": "ipython",
    "version": 3
   },
   "file_extension": ".py",
   "mimetype": "text/x-python",
   "name": "python",
   "nbconvert_exporter": "python",
   "pygments_lexer": "ipython3",
   "version": "3.6.6"
  }
 },
 "nbformat": 4,
 "nbformat_minor": 2
}
